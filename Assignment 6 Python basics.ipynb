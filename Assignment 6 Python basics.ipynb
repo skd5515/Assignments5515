{
 "cells": [
  {
   "cell_type": "code",
   "execution_count": null,
   "id": "252fabdb",
   "metadata": {},
   "outputs": [],
   "source": [
    "1. What are escape characters, and how do you use them?\n",
    "2. What do the escape characters n and t stand for?\n",
    "3. What is the way to include backslash characters in a string?\n",
    "4. The string \"Howl's Moving Castle\" is a correct value. Why isn't the single quote character in the word Howl's not escaped a problem?\n",
    "5. How do you write a string of newlines if you don't want to use the n character?\n",
    "6. What are the values of the given expressions?\n",
    "'Hello, world!'[1]\n",
    "'Hello, world!'[0:5]\n",
    "'Hello, world!'[:5]\n",
    "'Hello, world!'[3:]\n",
    "\n",
    "7. What are the values of the following expressions?\n",
    "'Hello'.upper()\n",
    "'Hello'.upper().isupper()\n",
    "'Hello'.upper().lower()\n",
    "8. What are the values of the following expressions?\n",
    "'Remember, remember, the fifth of July.'.split()\n",
    "'-'.join('There can only one.'.split())\n",
    "9. What are the methods for right-justifying, left-justifying, and centering a string?\n",
    "10. What is the best way to remove whitespace characters from the start or end?\n",
    "\n"
   ]
  },
  {
   "cell_type": "code",
   "execution_count": null,
   "id": "3a13574b",
   "metadata": {},
   "outputs": [],
   "source": [
    "1.Escape characters are special characters that you can use in strings to produce certain effects.\n",
    "They are prefixed with a backslash (\\)."
   ]
  },
  {
   "cell_type": "code",
   "execution_count": null,
   "id": "f3f54d78",
   "metadata": {},
   "outputs": [],
   "source": [
    "2.The escape character \\n stands for newline, and \\t stands for tab."
   ]
  },
  {
   "cell_type": "code",
   "execution_count": null,
   "id": "36477eea",
   "metadata": {},
   "outputs": [],
   "source": [
    "3.To include a backslash in a string, you use two backslashes (\\\\)."
   ]
  },
  {
   "cell_type": "code",
   "execution_count": null,
   "id": "2bcb8bdd",
   "metadata": {},
   "outputs": [],
   "source": [
    "4.In Python, strings can be enclosed in either single quotes (') or double quotes (\").\n",
    "If a string is enclosed in double quotes, Python allows the use of single quotes within\n",
    "the string without escaping them, and vice versa. So, \"Howl's Moving Castle\" is a valid string\n",
    "because the single quote is not considered an end to the string as it is enclosed in double quotes."
   ]
  },
  {
   "cell_type": "code",
   "execution_count": null,
   "id": "2e3ef6b2",
   "metadata": {},
   "outputs": [],
   "source": [
    "5.If I want to write a string of newlines without using the \\n character,\n",
    "I can do so by enclosing each line in quotes and separating them with commas.\n",
    "This will create a tuple of strings, which you can then join using the join() method. For example:"
   ]
  },
  {
   "cell_type": "code",
   "execution_count": 1,
   "id": "146d2790",
   "metadata": {},
   "outputs": [],
   "source": [
    "newlines = '\\n'.join(('First line', 'Second line', 'Third line'))"
   ]
  },
  {
   "cell_type": "code",
   "execution_count": 2,
   "id": "a07b6879",
   "metadata": {},
   "outputs": [
    {
     "name": "stdout",
     "output_type": "stream",
     "text": [
      "First line\n",
      "Second line\n",
      "Third line\n"
     ]
    }
   ],
   "source": [
    "print(newlines)"
   ]
  },
  {
   "cell_type": "code",
   "execution_count": 7,
   "id": "7bec62fd",
   "metadata": {},
   "outputs": [
    {
     "data": {
      "text/plain": [
       "'e'"
      ]
     },
     "execution_count": 7,
     "metadata": {},
     "output_type": "execute_result"
    }
   ],
   "source": [
    "#6\n",
    "'Hello, world!'[1]"
   ]
  },
  {
   "cell_type": "code",
   "execution_count": 8,
   "id": "6df44e03",
   "metadata": {},
   "outputs": [
    {
     "data": {
      "text/plain": [
       "'Hello'"
      ]
     },
     "execution_count": 8,
     "metadata": {},
     "output_type": "execute_result"
    }
   ],
   "source": [
    "'Hello, world!'[0:5]"
   ]
  },
  {
   "cell_type": "code",
   "execution_count": 10,
   "id": "45010ece",
   "metadata": {},
   "outputs": [
    {
     "data": {
      "text/plain": [
       "'Hello'"
      ]
     },
     "execution_count": 10,
     "metadata": {},
     "output_type": "execute_result"
    }
   ],
   "source": [
    "'Hello, world!'[:5] "
   ]
  },
  {
   "cell_type": "code",
   "execution_count": 11,
   "id": "c8b4fb6c",
   "metadata": {},
   "outputs": [
    {
     "data": {
      "text/plain": [
       "'lo, world!'"
      ]
     },
     "execution_count": 11,
     "metadata": {},
     "output_type": "execute_result"
    }
   ],
   "source": [
    "'Hello, world!'[3:]"
   ]
  },
  {
   "cell_type": "code",
   "execution_count": 12,
   "id": "3778bab8",
   "metadata": {},
   "outputs": [
    {
     "data": {
      "text/plain": [
       "'HELLO'"
      ]
     },
     "execution_count": 12,
     "metadata": {},
     "output_type": "execute_result"
    }
   ],
   "source": [
    "#7\n",
    "'Hello'.upper() "
   ]
  },
  {
   "cell_type": "code",
   "execution_count": 13,
   "id": "251d96de",
   "metadata": {},
   "outputs": [
    {
     "data": {
      "text/plain": [
       "True"
      ]
     },
     "execution_count": 13,
     "metadata": {},
     "output_type": "execute_result"
    }
   ],
   "source": [
    "'Hello'.upper().isupper()"
   ]
  },
  {
   "cell_type": "code",
   "execution_count": 14,
   "id": "92a51d2c",
   "metadata": {},
   "outputs": [
    {
     "data": {
      "text/plain": [
       "'hello'"
      ]
     },
     "execution_count": 14,
     "metadata": {},
     "output_type": "execute_result"
    }
   ],
   "source": [
    "'Hello'.upper().lower()"
   ]
  },
  {
   "cell_type": "code",
   "execution_count": 15,
   "id": "626e2648",
   "metadata": {},
   "outputs": [
    {
     "data": {
      "text/plain": [
       "['Remember,', 'remember,', 'the', 'fifth', 'of', 'July.']"
      ]
     },
     "execution_count": 15,
     "metadata": {},
     "output_type": "execute_result"
    }
   ],
   "source": [
    "#8\n",
    "'Remember, remember, the fifth of July.'.split()"
   ]
  },
  {
   "cell_type": "code",
   "execution_count": 16,
   "id": "74405f62",
   "metadata": {},
   "outputs": [
    {
     "data": {
      "text/plain": [
       "'There-can-only-one.'"
      ]
     },
     "execution_count": 16,
     "metadata": {},
     "output_type": "execute_result"
    }
   ],
   "source": [
    "'-'.join('There can only one.'.split())"
   ]
  },
  {
   "cell_type": "code",
   "execution_count": null,
   "id": "772f272f",
   "metadata": {},
   "outputs": [],
   "source": [
    "9.The methods for right-justifying, left-justifying, and centering a string are rjust(), ljust(),\n",
    "and center(), respectively. Each method takes the total width of the field in which the string is\n",
    "to be placed as an argument."
   ]
  },
  {
   "cell_type": "code",
   "execution_count": 22,
   "id": "396fcfe7",
   "metadata": {},
   "outputs": [],
   "source": [
    "k=\"ineuron\""
   ]
  },
  {
   "cell_type": "code",
   "execution_count": 23,
   "id": "4c33968a",
   "metadata": {},
   "outputs": [
    {
     "name": "stdout",
     "output_type": "stream",
     "text": [
      "   ineuron\n",
      "ineuron   \n",
      " ineuron  \n"
     ]
    }
   ],
   "source": [
    "print(k.rjust(10))\n",
    "\n",
    "print(k.ljust(10))\n",
    "\n",
    "print(k.center(10))"
   ]
  },
  {
   "cell_type": "code",
   "execution_count": null,
   "id": "456d867d",
   "metadata": {},
   "outputs": [],
   "source": [
    "10.The strip() method is used to remove whitespace characters from the start or end of a string.\n",
    "If you want to remove from the start only, use lstrip(). For the end only, use rstrip().\n",
    "\n",
    "\n"
   ]
  },
  {
   "cell_type": "code",
   "execution_count": 17,
   "id": "e7ad5f21",
   "metadata": {},
   "outputs": [
    {
     "data": {
      "text/plain": [
       "'kolorado  '"
      ]
     },
     "execution_count": 17,
     "metadata": {},
     "output_type": "execute_result"
    }
   ],
   "source": [
    "p=\"  kolorado  \"\n",
    "p.lstrip()"
   ]
  },
  {
   "cell_type": "code",
   "execution_count": 18,
   "id": "0f91bfdc",
   "metadata": {},
   "outputs": [
    {
     "data": {
      "text/plain": [
       "'  kolorado'"
      ]
     },
     "execution_count": 18,
     "metadata": {},
     "output_type": "execute_result"
    }
   ],
   "source": [
    "p.rstrip()"
   ]
  }
 ],
 "metadata": {
  "kernelspec": {
   "display_name": "Python 3 (ipykernel)",
   "language": "python",
   "name": "python3"
  },
  "language_info": {
   "codemirror_mode": {
    "name": "ipython",
    "version": 3
   },
   "file_extension": ".py",
   "mimetype": "text/x-python",
   "name": "python",
   "nbconvert_exporter": "python",
   "pygments_lexer": "ipython3",
   "version": "3.11.5"
  }
 },
 "nbformat": 4,
 "nbformat_minor": 5
}
