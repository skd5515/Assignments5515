{
 "cells": [
  {
   "cell_type": "code",
   "execution_count": null,
   "id": "8a2469df-53ce-467c-af8e-f32183dac765",
   "metadata": {},
   "outputs": [],
   "source": [
    "1. How do you distinguish between shutil.copy() and shutil.copytree()?\n",
    "2. What function is used to rename files??\n",
    "3. What is the difference between the delete functions in the send2trash and shutil modules?\n",
    "4.ZipFile objects have a close() method just like File objects’ close() method. What ZipFile method is equivalent to File objects’ open() method?\n",
    "5. Create a programme that searches a folder tree for files with a certain file extension (such as .pdf or .jpg). Copy these files from whatever location they are in to a new folder.\n"
   ]
  },
  {
   "cell_type": "code",
   "execution_count": null,
   "id": "16711e14-8ef2-48aa-ae72-b20ad32510fb",
   "metadata": {},
   "outputs": [],
   "source": [
    "1.\n",
    "shutil.copy():\n",
    "Copies a single file from a source to a destination.\n",
    "Usage: \n",
    "import shutil\n",
    "shutil.copy('source_file.txt', 'destination_file.txt')\n",
    "\n",
    "shutil.copytree():\n",
    "Recursively copies an entire directory tree from a source to a destination.\n",
    "Usage: \n",
    "import shutil\n",
    "shutil.copytree('source_directory', 'destination_directory')"
   ]
  },
  {
   "cell_type": "code",
   "execution_count": null,
   "id": "1e9a1bb8-e9e8-42f1-9f53-bc7814b9c5be",
   "metadata": {},
   "outputs": [],
   "source": [
    "2.\n",
    "To rename files in  we can use the os.rename() function from the os module\n",
    "import os\n",
    "\n",
    "old_name = 'example.txt'\n",
    "new_name = 'renamed_example.txt'\n",
    "\n",
    "os.rename(old_name, new_name)\n",
    "print(f\"File renamed from {old_name} to {new_name}\")"
   ]
  },
  {
   "cell_type": "code",
   "execution_count": null,
   "id": "04e7df45-73c6-45d5-af0a-1036722888e4",
   "metadata": {},
   "outputs": [],
   "source": [
    "3.\n",
    "The difference in delete function in send2trash and shutil modules is senf2trash  don't delete the \n",
    "file  permanently whereas shutil  deletes the file completely this action is irreversible.\n"
   ]
  },
  {
   "cell_type": "code",
   "execution_count": null,
   "id": "15d3ffc4-9937-4699-811f-e15d746a1bb5",
   "metadata": {},
   "outputs": [],
   "source": [
    "4.\n",
    "The equivalent method in the zipfile module to the open() method of File objects is the ZipFile() \n",
    "constructor. This method is used to open a ZIP file, similar to how open() is used to open regular\n",
    "files.\n",
    "\n",
    "ex.\n",
    "import zipfile\n",
    "\n",
    "with zipfile.ZipFile('example.zip', 'r') as zip_ref:\n",
    "    print(zip_ref.namelist())"
   ]
  },
  {
   "cell_type": "code",
   "execution_count": null,
   "id": "ee36e0aa-ae2f-4c88-970b-0b374b3b6a20",
   "metadata": {},
   "outputs": [],
   "source": [
    "#5. Create a programme that searches a folder tree for files with a certain file extension\n",
    "#(such as .pdf or .jpg). Copy these files from whatever location they are in to a new folder.\n"
   ]
  },
  {
   "cell_type": "code",
   "execution_count": 6,
   "id": "c3aab67f-4f57-49c5-968d-ae61900463dc",
   "metadata": {},
   "outputs": [],
   "source": [
    "import os\n",
    "import shutil\n",
    "import logging\n",
    "\n",
    "def set_log():\n",
    "    logging.basicConfig(\n",
    "        filename='file_copy.log',\n",
    "        level=logging.INFO,\n",
    "        format='%(asctime)s - %(levelname)s - %(message)s'\n",
    "    )\n",
    "\n",
    "def search_and_copy_files(src_folder,dest_folder,file_extension):\n",
    "    set_log()\n",
    "    try:\n",
    "        #create destination folder if not exists\n",
    "        if not os.path.exists(dest_folder):\n",
    "            os.makedirs(dest_folder)\n",
    "            logging.info(f\"Created destination folder:{dest_folder}\")\n",
    "\n",
    "        #walk through the source folder tree\n",
    "        for foldername,subfolders,filenames in os.walk(src_folder):\n",
    "            for filename in filenames:\n",
    "                if filename.endswith(file_extension):\n",
    "                    #construct full file path\n",
    "                    file_path=os.path.join(foldername,filename)\n",
    "                    #copy file to destination folder\n",
    "                    shutil.copy(file_path,dest_folder)\n",
    "                    print(f\"Copied:{file_path}\")\n",
    "    except Exception as e:\n",
    "        logging.error (f\"An error occurred: {e}\")"
   ]
  },
  {
   "cell_type": "code",
   "execution_count": 7,
   "id": "b648b7ab-6771-4281-822d-6cd6d1b30d4e",
   "metadata": {},
   "outputs": [],
   "source": [
    "source_folder = 'path/to/source/folder'\n",
    "destination_folder = 'path/to/destination/folder'\n",
    "extension = '.pdf'  # Change this to the desired file extension\n",
    "\n",
    "search_and_copy_files(source_folder, destination_folder, extension)\n",
    "        "
   ]
  },
  {
   "cell_type": "code",
   "execution_count": null,
   "id": "160a0012-e249-444c-a8d4-2be3ad08913b",
   "metadata": {},
   "outputs": [],
   "source": []
  },
  {
   "cell_type": "code",
   "execution_count": null,
   "id": "1fab967a-6cda-4cf3-b833-85ad49cfeaae",
   "metadata": {},
   "outputs": [],
   "source": []
  },
  {
   "cell_type": "code",
   "execution_count": null,
   "id": "e6773184-4a01-4084-baf2-00d050b70002",
   "metadata": {},
   "outputs": [],
   "source": []
  },
  {
   "cell_type": "code",
   "execution_count": null,
   "id": "d0a1d428-024d-40b1-953c-2052d546cf82",
   "metadata": {},
   "outputs": [],
   "source": []
  }
 ],
 "metadata": {
  "kernelspec": {
   "display_name": "Python 3 (ipykernel)",
   "language": "python",
   "name": "python3"
  },
  "language_info": {
   "codemirror_mode": {
    "name": "ipython",
    "version": 3
   },
   "file_extension": ".py",
   "mimetype": "text/x-python",
   "name": "python",
   "nbconvert_exporter": "python",
   "pygments_lexer": "ipython3",
   "version": "3.11.5"
  }
 },
 "nbformat": 4,
 "nbformat_minor": 5
}
