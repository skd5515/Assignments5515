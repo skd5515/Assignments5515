{
 "cells": [
  {
   "cell_type": "code",
   "execution_count": 4,
   "id": "a5d910bb",
   "metadata": {},
   "outputs": [],
   "source": [
    "#1 Types of error\n"
   ]
  },
  {
   "cell_type": "code",
   "execution_count": 5,
   "id": "a0a7e01a",
   "metadata": {},
   "outputs": [],
   "source": [
    "#i.for case sensetivity"
   ]
  },
  {
   "cell_type": "code",
   "execution_count": 6,
   "id": "ce80ebcb",
   "metadata": {},
   "outputs": [
    {
     "ename": "NameError",
     "evalue": "name 'prinnt' is not defined",
     "output_type": "error",
     "traceback": [
      "\u001b[1;31m---------------------------------------------------------------------------\u001b[0m",
      "\u001b[1;31mNameError\u001b[0m                                 Traceback (most recent call last)",
      "\u001b[1;32m~\\AppData\\Local\\Temp\\ipykernel_11660\\3408620789.py\u001b[0m in \u001b[0;36m<module>\u001b[1;34m\u001b[0m\n\u001b[0;32m      1\u001b[0m \u001b[0mTEN\u001b[0m\u001b[1;33m=\u001b[0m\u001b[1;36m44\u001b[0m\u001b[1;33m\u001b[0m\u001b[1;33m\u001b[0m\u001b[0m\n\u001b[0;32m      2\u001b[0m \u001b[0mten\u001b[0m\u001b[1;33m=\u001b[0m\u001b[1;36m44\u001b[0m\u001b[1;33m\u001b[0m\u001b[1;33m\u001b[0m\u001b[0m\n\u001b[1;32m----> 3\u001b[1;33m \u001b[0mprinnt\u001b[0m\u001b[1;33m(\u001b[0m\u001b[0mTen\u001b[0m\u001b[1;33m)\u001b[0m\u001b[1;33m\u001b[0m\u001b[1;33m\u001b[0m\u001b[0m\n\u001b[0m",
      "\u001b[1;31mNameError\u001b[0m: name 'prinnt' is not defined"
     ]
    }
   ],
   "source": [
    "TEN=44\n",
    "ten=44\n",
    "prinnt(Ten)"
   ]
  },
  {
   "cell_type": "code",
   "execution_count": 7,
   "id": "6edce828",
   "metadata": {},
   "outputs": [],
   "source": [
    "#ii.We should not use reserved words as variable names"
   ]
  },
  {
   "cell_type": "code",
   "execution_count": 8,
   "id": "5a495d83",
   "metadata": {},
   "outputs": [
    {
     "ename": "TypeError",
     "evalue": "'str' object is not callable",
     "output_type": "error",
     "traceback": [
      "\u001b[1;31m---------------------------------------------------------------------------\u001b[0m",
      "\u001b[1;31mTypeError\u001b[0m                                 Traceback (most recent call last)",
      "\u001b[1;32m~\\AppData\\Local\\Temp\\ipykernel_11660\\1224873241.py\u001b[0m in \u001b[0;36m<module>\u001b[1;34m\u001b[0m\n\u001b[0;32m      1\u001b[0m \u001b[0mprint\u001b[0m\u001b[1;33m=\u001b[0m\u001b[1;34m\"Hi there\"\u001b[0m\u001b[1;33m\u001b[0m\u001b[1;33m\u001b[0m\u001b[0m\n\u001b[0;32m      2\u001b[0m \u001b[0mtype\u001b[0m\u001b[1;33m(\u001b[0m\u001b[0mprint\u001b[0m\u001b[1;33m)\u001b[0m\u001b[1;33m\u001b[0m\u001b[1;33m\u001b[0m\u001b[0m\n\u001b[1;32m----> 3\u001b[1;33m \u001b[0mprint\u001b[0m\u001b[1;33m(\u001b[0m\u001b[1;34m\"Hi there\"\u001b[0m\u001b[1;33m)\u001b[0m\u001b[1;33m\u001b[0m\u001b[1;33m\u001b[0m\u001b[0m\n\u001b[0m",
      "\u001b[1;31mTypeError\u001b[0m: 'str' object is not callable"
     ]
    }
   ],
   "source": [
    "print=\"Hi there\"\n",
    "type(print)\n",
    "print(\"Hi there\")"
   ]
  },
  {
   "cell_type": "code",
   "execution_count": 9,
   "id": "f98573e1",
   "metadata": {},
   "outputs": [],
   "source": [
    "del print"
   ]
  },
  {
   "cell_type": "code",
   "execution_count": 10,
   "id": "6e127861",
   "metadata": {},
   "outputs": [],
   "source": [
    "#III. When we take user input variable we should mention the data type"
   ]
  },
  {
   "cell_type": "code",
   "execution_count": 8,
   "id": "dd4d7b43",
   "metadata": {},
   "outputs": [
    {
     "name": "stdout",
     "output_type": "stream",
     "text": [
      "name: sandeep kumar das\n",
      "place: sangogadeipur\n",
      "year_of_birth: 2001\n"
     ]
    },
    {
     "ename": "TypeError",
     "evalue": "unsupported operand type(s) for -: 'int' and 'str'",
     "output_type": "error",
     "traceback": [
      "\u001b[1;31m---------------------------------------------------------------------------\u001b[0m",
      "\u001b[1;31mTypeError\u001b[0m                                 Traceback (most recent call last)",
      "\u001b[1;32m~\\AppData\\Local\\Temp\\ipykernel_6124\\180023088.py\u001b[0m in \u001b[0;36m<module>\u001b[1;34m\u001b[0m\n\u001b[0;32m      3\u001b[0m \u001b[0myear_of_birth\u001b[0m\u001b[1;33m=\u001b[0m\u001b[0minput\u001b[0m\u001b[1;33m(\u001b[0m\u001b[1;34m\"year_of_birth: \"\u001b[0m\u001b[1;33m)\u001b[0m\u001b[1;33m\u001b[0m\u001b[1;33m\u001b[0m\u001b[0m\n\u001b[0;32m      4\u001b[0m \u001b[1;33m\u001b[0m\u001b[0m\n\u001b[1;32m----> 5\u001b[1;33m \u001b[0mage\u001b[0m\u001b[1;33m=\u001b[0m\u001b[1;36m2022\u001b[0m\u001b[1;33m-\u001b[0m\u001b[0myear_of_birth\u001b[0m\u001b[1;33m\u001b[0m\u001b[1;33m\u001b[0m\u001b[0m\n\u001b[0m\u001b[0;32m      6\u001b[0m \u001b[1;33m\u001b[0m\u001b[0m\n\u001b[0;32m      7\u001b[0m print(f\"\"\"my name is: {name}\n",
      "\u001b[1;31mTypeError\u001b[0m: unsupported operand type(s) for -: 'int' and 'str'"
     ]
    }
   ],
   "source": [
    "name=input(\"name: \")\n",
    "place=input(\"place: \")\n",
    "year_of_birth=input(\"year_of_birth: \")\n",
    "\n",
    "age=2022-year_of_birth\n",
    "\n",
    "print(f\"\"\"my name is: {name}\n",
    "i live at: {place}\n",
    "{name} is of age: {age}\"\"\")\n",
    "\n"
   ]
  },
  {
   "cell_type": "code",
   "execution_count": 10,
   "id": "31e152c7",
   "metadata": {},
   "outputs": [],
   "source": [
    "#iv. If we create a data type of input variable, we need to put theexact data type value"
   ]
  },
  {
   "cell_type": "code",
   "execution_count": 2,
   "id": "06f4c257",
   "metadata": {},
   "outputs": [
    {
     "name": "stdout",
     "output_type": "stream",
     "text": [
      "Enter value of A: 12.3\n",
      "Enter value of B: 15.2\n"
     ]
    },
    {
     "ename": "ValueError",
     "evalue": "invalid literal for int() with base 10: '15.2'",
     "output_type": "error",
     "traceback": [
      "\u001b[1;31m---------------------------------------------------------------------------\u001b[0m",
      "\u001b[1;31mValueError\u001b[0m                                Traceback (most recent call last)",
      "\u001b[1;32m~\\AppData\\Local\\Temp\\ipykernel_11528\\3559638405.py\u001b[0m in \u001b[0;36m<module>\u001b[1;34m\u001b[0m\n\u001b[0;32m      1\u001b[0m \u001b[0mA\u001b[0m\u001b[1;33m=\u001b[0m\u001b[0mfloat\u001b[0m\u001b[1;33m(\u001b[0m\u001b[0minput\u001b[0m\u001b[1;33m(\u001b[0m\u001b[1;34m\"Enter value of A: \"\u001b[0m\u001b[1;33m)\u001b[0m\u001b[1;33m)\u001b[0m\u001b[1;33m\u001b[0m\u001b[1;33m\u001b[0m\u001b[0m\n\u001b[1;32m----> 2\u001b[1;33m \u001b[0mB\u001b[0m\u001b[1;33m=\u001b[0m\u001b[0mint\u001b[0m\u001b[1;33m(\u001b[0m\u001b[0minput\u001b[0m\u001b[1;33m(\u001b[0m\u001b[1;34m\"Enter value of B: \"\u001b[0m\u001b[1;33m)\u001b[0m\u001b[1;33m)\u001b[0m\u001b[1;33m\u001b[0m\u001b[1;33m\u001b[0m\u001b[0m\n\u001b[0m\u001b[0;32m      3\u001b[0m \u001b[1;33m\u001b[0m\u001b[0m\n\u001b[0;32m      4\u001b[0m \u001b[0mprint\u001b[0m\u001b[1;33m(\u001b[0m\u001b[1;34mf\"sum of A ana B is:{A+B}\"\u001b[0m\u001b[1;33m)\u001b[0m\u001b[1;33m\u001b[0m\u001b[1;33m\u001b[0m\u001b[0m\n",
      "\u001b[1;31mValueError\u001b[0m: invalid literal for int() with base 10: '15.2'"
     ]
    }
   ],
   "source": [
    "A=float(input(\"Enter value of A: \"))\n",
    "B=int(input(\"Enter value of B: \"))\n",
    "\n",
    "print(f\"sum of A ana B is:{A+B}\")"
   ]
  },
  {
   "cell_type": "code",
   "execution_count": 3,
   "id": "af910306",
   "metadata": {},
   "outputs": [],
   "source": [
    "# V. Wecant change an empty string to any data type"
   ]
  },
  {
   "cell_type": "code",
   "execution_count": 4,
   "id": "ce814ce4",
   "metadata": {},
   "outputs": [
    {
     "name": "stdout",
     "output_type": "stream",
     "text": [
      "data type before:<class 'str'>,value of A:\n"
     ]
    },
    {
     "ename": "ValueError",
     "evalue": "invalid literal for int() with base 10: ''",
     "output_type": "error",
     "traceback": [
      "\u001b[1;31m---------------------------------------------------------------------------\u001b[0m",
      "\u001b[1;31mValueError\u001b[0m                                Traceback (most recent call last)",
      "\u001b[1;32m~\\AppData\\Local\\Temp\\ipykernel_11528\\328429331.py\u001b[0m in \u001b[0;36m<module>\u001b[1;34m\u001b[0m\n\u001b[0;32m      1\u001b[0m \u001b[0mA\u001b[0m\u001b[1;33m=\u001b[0m\u001b[1;34m\"\"\u001b[0m\u001b[1;33m\u001b[0m\u001b[1;33m\u001b[0m\u001b[0m\n\u001b[0;32m      2\u001b[0m \u001b[0mprint\u001b[0m\u001b[1;33m(\u001b[0m\u001b[1;34mf\"data type before:{type(A)},value of A:{A}\"\u001b[0m\u001b[1;33m)\u001b[0m\u001b[1;33m\u001b[0m\u001b[1;33m\u001b[0m\u001b[0m\n\u001b[1;32m----> 3\u001b[1;33m \u001b[0mA\u001b[0m\u001b[1;33m=\u001b[0m\u001b[0mint\u001b[0m\u001b[1;33m(\u001b[0m\u001b[0mA\u001b[0m\u001b[1;33m)\u001b[0m\u001b[1;33m\u001b[0m\u001b[1;33m\u001b[0m\u001b[0m\n\u001b[0m\u001b[0;32m      4\u001b[0m \u001b[0mprint\u001b[0m\u001b[1;33m(\u001b[0m\u001b[1;34mf\"data type after:{type(A)},value of A:{A}\"\u001b[0m\u001b[1;33m)\u001b[0m\u001b[1;33m\u001b[0m\u001b[1;33m\u001b[0m\u001b[0m\n",
      "\u001b[1;31mValueError\u001b[0m: invalid literal for int() with base 10: ''"
     ]
    }
   ],
   "source": [
    "A=\"\"\n",
    "print(f\"data type before:{type(A)},value of A:{A}\")\n",
    "A=int(A)\n",
    "print(f\"data type after:{type(A)},value of A:{A}\")"
   ]
  },
  {
   "cell_type": "code",
   "execution_count": 5,
   "id": "c9776e83",
   "metadata": {},
   "outputs": [],
   "source": [
    "# Take input A and B print their mal,div,add, square"
   ]
  },
  {
   "cell_type": "code",
   "execution_count": 4,
   "id": "885a4811",
   "metadata": {},
   "outputs": [
    {
     "name": "stdout",
     "output_type": "stream",
     "text": [
      "Enter 1st number: 8000\n",
      "Enter 2nd number: 200\n",
      "the 'sum' of 8000 & 200 is : 8200 \n",
      "the 'mul' of 8000 & 200 is : 1600000\n",
      "the 'div' of 8000 & 200 is : 40.0\n",
      "the 'square' of 8000 & 200 is : 64000000\n"
     ]
    }
   ],
   "source": [
    "a=int(input(\"Enter 1st number: \"))\n",
    "b=int(input(\"Enter 2nd number: \"))\n",
    "\n",
    "sum=a+b\n",
    "mul=a*b\n",
    "div=a/b\n",
    "square=a ** 2\n",
    "\n",
    "print(f\"the 'sum' of {a} & {b} is : {sum} \")\n",
    "print(f\"the 'mul' of {a} & {b} is : {mul}\")\n",
    "print(f\"the 'div' of {a} & {b} is : {div}\")\n",
    "print(f\"the 'square' of {a} & {b} is : {square}\")\n",
    "\n"
   ]
  },
  {
   "cell_type": "code",
   "execution_count": 5,
   "id": "7a4e8bb8",
   "metadata": {},
   "outputs": [],
   "source": [
    "# 3.Reserve keywords"
   ]
  },
  {
   "cell_type": "code",
   "execution_count": 6,
   "id": "f9bce590",
   "metadata": {},
   "outputs": [],
   "source": [
    "#There are 33 reserve key words in python\n",
    "#We should not use reserve key words as variable because it will through error in future  "
   ]
  },
  {
   "cell_type": "code",
   "execution_count": 8,
   "id": "7cb5e894",
   "metadata": {},
   "outputs": [],
   "source": [
    "#4 Email id formation lastname.firstname@gmail.com"
   ]
  },
  {
   "cell_type": "code",
   "execution_count": 1,
   "id": "a3caab63",
   "metadata": {},
   "outputs": [
    {
     "name": "stdout",
     "output_type": "stream",
     "text": [
      "Enter the first name: sandeep\n",
      "Enter the first name: kumar\n",
      "The user email id is : kumar.sandeep@gmail.com\n"
     ]
    }
   ],
   "source": [
    "first_name=input(\"Enter the first name: \")\n",
    "last_name=input(\"Enter the first name: \")\n",
    "\n",
    "print(f\"The user email id is : {last_name}.{first_name}@gmail.com\")"
   ]
  },
  {
   "cell_type": "code",
   "execution_count": 2,
   "id": "f452f795",
   "metadata": {},
   "outputs": [],
   "source": [
    "#5 Print following lines"
   ]
  },
  {
   "cell_type": "code",
   "execution_count": 4,
   "id": "2c062894",
   "metadata": {},
   "outputs": [
    {
     "name": "stdout",
     "output_type": "stream",
     "text": [
      "The 1st statement is: Hi i am Sunny\n",
      "The 2nd statement is: My address is 22\\3\n",
      "The 3rd statement is: I earn 20$ daily.\n"
     ]
    }
   ],
   "source": [
    "statement_1=\"Hi i am Sunny\"\n",
    "statement_2=\"My address is 22\\\\3\"\n",
    "statement_3= \"I earn 20$ daily.\"\n",
    "\n",
    "print(f\"The 1st statement is: {statement_1}\")\n",
    "print(f\"The 2nd statement is: {statement_2}\")\n",
    "print(f\"The 3rd statement is: {statement_3}\")"
   ]
  },
  {
   "cell_type": "code",
   "execution_count": 5,
   "id": "293dea7c",
   "metadata": {},
   "outputs": [],
   "source": [
    "#6 Take user input(name,address,date of birth,) to fill a form for coolege and print their email ids"
   ]
  },
  {
   "cell_type": "code",
   "execution_count": null,
   "id": "cda2835e",
   "metadata": {},
   "outputs": [],
   "source": [
    "first_name=input(\"Enter your first name: \")\n",
    "last_name=input(\"Enter your last name: \")\n",
    "\n",
    "house_no=input(\"Enter your house_no: \")\n",
    "village_or_city=input(\"Enter your village/city: \")\n",
    "po=input(\"Enter your po: \")\n",
    "ps=input(\"Enter your ps: \")\n",
    "pin=input(\"Enter your pin: \")\n",
    "dist=input(\"Enter your dist: \")\n",
    "state=input(\"Enter your state: \")\n",
    "\n",
    "dob=input(\"Enter your date of birth: \") \n",
    "\n",
    "print(f\"\\nYour full name\": {first_name} {last_name})"
   ]
  }
 ],
 "metadata": {
  "kernelspec": {
   "display_name": "Python 3 (ipykernel)",
   "language": "python",
   "name": "python3"
  },
  "language_info": {
   "codemirror_mode": {
    "name": "ipython",
    "version": 3
   },
   "file_extension": ".py",
   "mimetype": "text/x-python",
   "name": "python",
   "nbconvert_exporter": "python",
   "pygments_lexer": "ipython3",
   "version": "3.9.13"
  }
 },
 "nbformat": 4,
 "nbformat_minor": 5
}
