{
 "cells": [
  {
   "cell_type": "code",
   "execution_count": 1,
   "id": "c225cd61",
   "metadata": {
    "scrolled": true
   },
   "outputs": [
    {
     "ename": "SyntaxError",
     "evalue": "invalid syntax (3750616998.py, line 2)",
     "output_type": "error",
     "traceback": [
      "\u001b[1;36m  File \u001b[1;32m\"C:\\Users\\SOMU\\AppData\\Local\\Temp\\ipykernel_11792\\3750616998.py\"\u001b[1;36m, line \u001b[1;32m2\u001b[0m\n\u001b[1;33m    Here given values are \"hellow\" , -87.8 , 6\u001b[0m\n\u001b[1;37m         ^\u001b[0m\n\u001b[1;31mSyntaxError\u001b[0m\u001b[1;31m:\u001b[0m invalid syntax\n"
     ]
    }
   ],
   "source": [
    "#1\n",
    "Here given values are \"hellow\" , -87.8 , 6\n",
    "the expressions are * - / +\n",
    "\n",
    "\n",
    "#2\n",
    "Difference between string and variable> String is a type of data written between\n",
    "    \"\" which represents text, and variable is a name required to refer any value\n",
    "               eg. a=\"ineuron\" here a is a variable and \"ineuron\" is a string value\n",
    "#3\n",
    "Three different data types\n",
    "integers> a=7\n",
    "floats(numbers containing decimal)> pi=3.141\n",
    "complex numbers> a= 2+3x\n",
    "\n",
    "\n",
    "#4\n",
    "An expression is made up of by the combination of operators and operands that is\n",
    "interpreted to produce some other value.\n",
    "Expressions are required to produce a value\n",
    "\n",
    "#5\n",
    "Expressions can be assigned or used as operands while statements can only be declared\n",
    "Expressions are unique in meaning while statements are two sided in execution\n"
   ]
  },
  {
   "cell_type": "code",
   "execution_count": 7,
   "id": "e47dd852",
   "metadata": {},
   "outputs": [
    {
     "data": {
      "text/plain": [
       "23"
      ]
     },
     "execution_count": 7,
     "metadata": {},
     "output_type": "execute_result"
    }
   ],
   "source": [
    "#6 \n",
    "bacon = 22\n",
    "bacon + 1"
   ]
  },
  {
   "cell_type": "code",
   "execution_count": 3,
   "id": "42f36f89",
   "metadata": {},
   "outputs": [
    {
     "data": {
      "text/plain": [
       "'spamspamspam'"
      ]
     },
     "execution_count": 3,
     "metadata": {},
     "output_type": "execute_result"
    }
   ],
   "source": [
    "#7\n",
    "'spam'+'spamspam'\n",
    " "
   ]
  },
  {
   "cell_type": "code",
   "execution_count": 4,
   "id": "940ac057",
   "metadata": {},
   "outputs": [
    {
     "data": {
      "text/plain": [
       "'spamspamspam'"
      ]
     },
     "execution_count": 4,
     "metadata": {},
     "output_type": "execute_result"
    }
   ],
   "source": [
    "'spam'*3"
   ]
  },
  {
   "cell_type": "code",
   "execution_count": null,
   "id": "1528777c",
   "metadata": {},
   "outputs": [],
   "source": [
    "#8\n",
    "egg is a valid variable besause  it begin with \n",
    "a letter , 100 is not a not a valid variable name\n",
    "because it starts with a number. In a progamming language variable should always\n",
    "start from a letter or an underscore.\n"
   ]
  },
  {
   "cell_type": "code",
   "execution_count": null,
   "id": "1be9eacb",
   "metadata": {},
   "outputs": [],
   "source": [
    "#9\n",
    " The functions we can use are int() , float(), str() to get integer, float and \n",
    "    string versions of a value"
   ]
  },
  {
   "cell_type": "code",
   "execution_count": 5,
   "id": "2b502993",
   "metadata": {},
   "outputs": [
    {
     "ename": "TypeError",
     "evalue": "can only concatenate str (not \"int\") to str",
     "output_type": "error",
     "traceback": [
      "\u001b[1;31m---------------------------------------------------------------------------\u001b[0m",
      "\u001b[1;31mTypeError\u001b[0m                                 Traceback (most recent call last)",
      "\u001b[1;32m~\\AppData\\Local\\Temp\\ipykernel_31540\\811896959.py\u001b[0m in \u001b[0;36m<module>\u001b[1;34m\u001b[0m\n\u001b[0;32m      1\u001b[0m \u001b[1;31m#10\u001b[0m\u001b[1;33m\u001b[0m\u001b[1;33m\u001b[0m\u001b[0m\n\u001b[1;32m----> 2\u001b[1;33m \u001b[1;34m'I have eaten'\u001b[0m  \u001b[1;33m+\u001b[0m \u001b[1;36m99\u001b[0m \u001b[1;33m+\u001b[0m \u001b[1;34m'burritos.'\u001b[0m\u001b[1;33m\u001b[0m\u001b[1;33m\u001b[0m\u001b[0m\n\u001b[0m",
      "\u001b[1;31mTypeError\u001b[0m: can only concatenate str (not \"int\") to str"
     ]
    }
   ],
   "source": [
    "#10\n",
    "'I have eaten'  + 99 + 'burritos.'"
   ]
  },
  {
   "cell_type": "code",
   "execution_count": null,
   "id": "cf7352f9",
   "metadata": {},
   "outputs": [],
   "source": [
    "Here we get an error because we can not concatinate  a string directly with an\n",
    "integer we can correct this by converting the integer to a string value."
   ]
  },
  {
   "cell_type": "code",
   "execution_count": 7,
   "id": "e361ae21",
   "metadata": {},
   "outputs": [
    {
     "data": {
      "text/plain": [
       "'I have eaten99burritos'"
      ]
     },
     "execution_count": 7,
     "metadata": {},
     "output_type": "execute_result"
    }
   ],
   "source": [
    "'I have eaten'    + str(99)       +    'burritos' "
   ]
  },
  {
   "cell_type": "code",
   "execution_count": null,
   "id": "5170db4f",
   "metadata": {},
   "outputs": [],
   "source": []
  }
 ],
 "metadata": {
  "kernelspec": {
   "display_name": "Python 3 (ipykernel)",
   "language": "python",
   "name": "python3"
  },
  "language_info": {
   "codemirror_mode": {
    "name": "ipython",
    "version": 3
   },
   "file_extension": ".py",
   "mimetype": "text/x-python",
   "name": "python",
   "nbconvert_exporter": "python",
   "pygments_lexer": "ipython3",
   "version": "3.9.13"
  }
 },
 "nbformat": 4,
 "nbformat_minor": 5
}
