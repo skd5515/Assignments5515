{
 "cells": [
  {
   "cell_type": "code",
   "execution_count": null,
   "id": "db3923ae",
   "metadata": {},
   "outputs": [],
   "source": [
    "#1\n",
    "Boolean data type has two values such as True and False , we have to write them\n",
    "like True and False in python.\n"
   ]
  },
  {
   "cell_type": "code",
   "execution_count": null,
   "id": "aedbc9c1",
   "metadata": {},
   "outputs": [],
   "source": [
    "#2\n",
    "Three different types of boolean datatype are and, or, not"
   ]
  },
  {
   "cell_type": "code",
   "execution_count": null,
   "id": "586ce66a",
   "metadata": {},
   "outputs": [],
   "source": [
    "#3\n",
    "boolean operator truth table \n",
    "AND:\n",
    "    A     B     A AND B\n",
    "    \n",
    "    T     T      T\n",
    "    T     F      F\n",
    "    F     T      F\n",
    "    F     F      F\n",
    "    \n",
    "    \n",
    "OR:\n",
    "    A     B     A OR B\n",
    "    \n",
    "    T     F     T\n",
    "    F     T     T\n",
    "    F     F     F\n",
    "    T     T     T\n",
    "    \n",
    "NOT:\n",
    "    A      NOT A \n",
    "    \n",
    "    T      F\n",
    "    F      T"
   ]
  },
  {
   "cell_type": "code",
   "execution_count": null,
   "id": "879b7a27",
   "metadata": {},
   "outputs": [],
   "source": [
    "#4"
   ]
  },
  {
   "cell_type": "code",
   "execution_count": 1,
   "id": "fa48efdb",
   "metadata": {},
   "outputs": [
    {
     "data": {
      "text/plain": [
       "False"
      ]
     },
     "execution_count": 1,
     "metadata": {},
     "output_type": "execute_result"
    }
   ],
   "source": [
    "(5>4)and(3==5)"
   ]
  },
  {
   "cell_type": "code",
   "execution_count": 2,
   "id": "5ba11251",
   "metadata": {},
   "outputs": [
    {
     "data": {
      "text/plain": [
       "False"
      ]
     },
     "execution_count": 2,
     "metadata": {},
     "output_type": "execute_result"
    }
   ],
   "source": [
    "not(5>4)"
   ]
  },
  {
   "cell_type": "code",
   "execution_count": 3,
   "id": "7e5e9be8",
   "metadata": {},
   "outputs": [
    {
     "data": {
      "text/plain": [
       "True"
      ]
     },
     "execution_count": 3,
     "metadata": {},
     "output_type": "execute_result"
    }
   ],
   "source": [
    "(5>4)or(3==5)"
   ]
  },
  {
   "cell_type": "code",
   "execution_count": 4,
   "id": "76240628",
   "metadata": {},
   "outputs": [
    {
     "data": {
      "text/plain": [
       "False"
      ]
     },
     "execution_count": 4,
     "metadata": {},
     "output_type": "execute_result"
    }
   ],
   "source": [
    "not((5>4)or(3==5))"
   ]
  },
  {
   "cell_type": "code",
   "execution_count": 5,
   "id": "8815e1c7",
   "metadata": {},
   "outputs": [
    {
     "data": {
      "text/plain": [
       "False"
      ]
     },
     "execution_count": 5,
     "metadata": {},
     "output_type": "execute_result"
    }
   ],
   "source": [
    "(True and True) and (True == False)"
   ]
  },
  {
   "cell_type": "code",
   "execution_count": 6,
   "id": "4691ebc9",
   "metadata": {},
   "outputs": [
    {
     "data": {
      "text/plain": [
       "True"
      ]
     },
     "execution_count": 6,
     "metadata": {},
     "output_type": "execute_result"
    }
   ],
   "source": [
    "(not False) or (not True)"
   ]
  },
  {
   "cell_type": "code",
   "execution_count": null,
   "id": "adbe03b7",
   "metadata": {},
   "outputs": [],
   "source": [
    "#5\n",
    "6 comparison operators are\n",
    "== equals to\n",
    "!= not equals to\n",
    "> greater than\n",
    "< less than\n",
    ">= greater than or eqal to\n",
    "<= less than or eqal to"
   ]
  },
  {
   "cell_type": "code",
   "execution_count": null,
   "id": "fc126abe",
   "metadata": {},
   "outputs": [],
   "source": [
    "#6\n",
    "Equals to operator is defined as \"==\" on the other hand assignment\n",
    "operator is defined as \"=\". When x==5 here we are chaking wheather value of \n",
    "variable 'x'is equal to 5 or not, x=5 here we are assigning a value\n",
    "to the variable 'x'."
   ]
  },
  {
   "cell_type": "code",
   "execution_count": null,
   "id": "c45b7ff4",
   "metadata": {},
   "outputs": [],
   "source": [
    "#7\n",
    "Given three blocks are\n",
    "1. spam=0\n",
    "2.if==10:\n",
    "    print('eggs')\n",
    "3.if spam>5:\n",
    "    print('bacon')\n",
    "else:\n",
    "    print('ham')"
   ]
  },
  {
   "cell_type": "code",
   "execution_count": null,
   "id": "2c0d188a",
   "metadata": {},
   "outputs": [],
   "source": [
    "#8\n",
    "if spam == 1:\n",
    "    print('Hello')\n",
    "elif spam == 2:\n",
    "    print('Howdy')\n",
    "else:\n",
    "    print('Greetings!')"
   ]
  },
  {
   "cell_type": "code",
   "execution_count": null,
   "id": "3177ed67",
   "metadata": {},
   "outputs": [],
   "source": [
    "#9\n",
    "If a program is stuck in  an endless loop we \n",
    "should press ctrl + c to interrupt that"
   ]
  },
  {
   "cell_type": "code",
   "execution_count": null,
   "id": "c6aec3d6",
   "metadata": {},
   "outputs": [],
   "source": [
    "#10 \n",
    "Difference between break and continue is , when we use break it will\n",
    "terminate the entire loop prematurely and while we use continue it will skip\n",
    "over a part of the loop then allow it to keep running."
   ]
  },
  {
   "cell_type": "code",
   "execution_count": null,
   "id": "dc8a0704",
   "metadata": {},
   "outputs": [],
   "source": [
    "#11"
   ]
  },
  {
   "cell_type": "code",
   "execution_count": 3,
   "id": "70f8b21b",
   "metadata": {},
   "outputs": [
    {
     "name": "stdout",
     "output_type": "stream",
     "text": [
      "0\n",
      "1\n",
      "2\n",
      "3\n",
      "4\n",
      "5\n",
      "6\n",
      "7\n",
      "8\n",
      "9\n"
     ]
    }
   ],
   "source": [
    "for i in range(10):\n",
    "    print(i)"
   ]
  },
  {
   "cell_type": "code",
   "execution_count": 4,
   "id": "f7f219d1",
   "metadata": {},
   "outputs": [
    {
     "name": "stdout",
     "output_type": "stream",
     "text": [
      "0\n",
      "1\n",
      "2\n",
      "3\n",
      "4\n",
      "5\n",
      "6\n",
      "7\n",
      "8\n",
      "9\n"
     ]
    }
   ],
   "source": [
    "for i in range(0,10):\n",
    "    print(i)"
   ]
  },
  {
   "cell_type": "code",
   "execution_count": 6,
   "id": "9c6c75b1",
   "metadata": {},
   "outputs": [
    {
     "name": "stdout",
     "output_type": "stream",
     "text": [
      "0\n",
      "1\n",
      "2\n",
      "3\n",
      "4\n",
      "5\n",
      "6\n",
      "7\n",
      "8\n",
      "9\n"
     ]
    }
   ],
   "source": [
    "for i in range(0,10,1):\n",
    "    print(i)"
   ]
  },
  {
   "cell_type": "code",
   "execution_count": null,
   "id": "f7c80d66",
   "metadata": {},
   "outputs": [],
   "source": [
    "In for loop there is no difference between range(10), range(0,10),range(0,10,1)"
   ]
  },
  {
   "cell_type": "code",
   "execution_count": null,
   "id": "62c6fe09",
   "metadata": {},
   "outputs": [],
   "source": [
    "#12"
   ]
  },
  {
   "cell_type": "code",
   "execution_count": 7,
   "id": "c4e09502",
   "metadata": {},
   "outputs": [
    {
     "name": "stdout",
     "output_type": "stream",
     "text": [
      "1\n",
      "2\n",
      "3\n",
      "4\n",
      "5\n",
      "6\n",
      "7\n",
      "8\n",
      "9\n",
      "10\n"
     ]
    }
   ],
   "source": [
    "for i in range(1,11):\n",
    "    print(i)"
   ]
  },
  {
   "cell_type": "code",
   "execution_count": 2,
   "id": "45e28e3a",
   "metadata": {},
   "outputs": [
    {
     "name": "stdout",
     "output_type": "stream",
     "text": [
      "1\n",
      "2\n",
      "3\n",
      "4\n",
      "5\n",
      "6\n",
      "7\n",
      "8\n",
      "9\n",
      "10\n"
     ]
    }
   ],
   "source": [
    "i=1\n",
    "while(i<11):\n",
    "    print(i)\n",
    "    i=i+1"
   ]
  },
  {
   "cell_type": "code",
   "execution_count": null,
   "id": "25168bf8",
   "metadata": {},
   "outputs": [],
   "source": [
    "#13 \n",
    "After importing spam I will use another  module instead of spam like 'sp' and\n",
    "read it like:\n",
    "    import spam as sp\n",
    "    sp.bacon()"
   ]
  }
 ],
 "metadata": {
  "kernelspec": {
   "display_name": "Python 3 (ipykernel)",
   "language": "python",
   "name": "python3"
  },
  "language_info": {
   "codemirror_mode": {
    "name": "ipython",
    "version": 3
   },
   "file_extension": ".py",
   "mimetype": "text/x-python",
   "name": "python",
   "nbconvert_exporter": "python",
   "pygments_lexer": "ipython3",
   "version": "3.9.13"
  }
 },
 "nbformat": 4,
 "nbformat_minor": 5
}
