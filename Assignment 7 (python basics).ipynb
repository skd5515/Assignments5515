{
 "cells": [
  {
   "cell_type": "code",
   "execution_count": null,
   "id": "3d4bf93d",
   "metadata": {},
   "outputs": [],
   "source": [
    "1. What is the name of the feature responsible for generating Regex objects?\n",
    "2. Why do raw strings often appear in Regex objects?\n",
    "3. What is the return value of the search() method?\n",
    "4. From a Match item, how do you get the actual strings that match the pattern?\n",
    "5. In the regex which created from the r'(\\d\\d\\d)-(\\d\\d\\d-\\d\\d\\d\\d)', what does group zero cover? Group 2? Group 1?\n",
    "6. In standard expression syntax, parentheses and intervals have distinct meanings. How can you tell a regex that you want it to fit real parentheses and periods?\n",
    "7. The findall() method returns a string list or a list of string tuples. What causes it to return one of the two options?\n",
    "8. In standard expressions, what does the | character mean?\n",
    "9. In regular expressions, what does the character stand for?\n",
    "10.In regular expressions, what is the difference between the + and * characters?\n",
    "11. What is the difference between {4} and {4,5} in regular expression?\n",
    "12. What do you mean by the \\d, \\w, and \\s shorthand character classes signify in regular expressions?\n",
    "13. What do means by \\D, \\W, and \\S shorthand character classes signify in regular expressions?\n",
    "14. What is the difference between .*? and .*?\n",
    "15. What is the syntax for matching both numbers and lowercase letters with a character class?\n",
    "16. What is the procedure for making a normal expression in regax case insensitive?\n",
    "17. What does the . character normally match? What does it match if re.DOTALL is passed as 2nd argument in re.compile()?\n",
    "18. If numReg = re.compile(r'\\d+'), what will numRegex.sub('X', '11 drummers, 10 pipers, five rings, 4 hen') return?\n",
    "19. What does passing re.VERBOSE as the 2nd argument to re.compile() allow to do?\n",
    "20. How would you write a regex that match a number with comma for every three digits? It must match the given following:\n",
    "'42'\n",
    "'1,234'\n",
    "'6,368,745'\n",
    "but not the following:\n",
    "'12,34,567' (which has only two digits between the commas)\n",
    "'1234' (which lacks commas)\n",
    "21. How would you write a regex that matches the full name of someone whose last name is Watanabe? You can assume that the first name that comes before it will always be one word that begins with a capital letter. The regex must match the following:\n",
    "'Haruto Watanabe'\n",
    "'Alice Watanabe'\n",
    "'RoboCop Watanabe'\n",
    "but not the following:\n",
    "'haruto Watanabe' (where the first name is not capitalized)\n",
    "'Mr. Watanabe' (where the preceding word has a nonletter character)\n",
    "'Watanabe' (which has no first name)\n",
    "'Haruto watanabe' (where Watanabe is not capitalized)\n",
    "22. How would you write a regex that matches a sentence where the first word is either Alice, Bob, or Carol; the second word is either eats, pets, or throws; the third word is apples, cats, or baseballs; and the sentence ends with a period? This regex should be case-insensitive. It must match the following:\n",
    "'Alice eats apples.'\n",
    "'Bob pets cats.'\n",
    "'Carol throws baseballs.'\n",
    "'Alice throws Apples.'\n",
    "'BOB EATS CATS.'\n",
    "but not the following:\n",
    "'RoboCop eats apples.'\n",
    "'ALICE THROWS FOOTBALLS.'\n",
    "'Carol eats 7 cats.'"
   ]
  },
  {
   "cell_type": "code",
   "execution_count": null,
   "id": "ef9cf96f",
   "metadata": {},
   "outputs": [],
   "source": [
    "#1.\n",
    "The feature responsible to generate Regex objects in Python is re.compile() "
   ]
  },
  {
   "cell_type": "code",
   "execution_count": null,
   "id": "ca0941b0",
   "metadata": {},
   "outputs": [],
   "source": [
    "#2\n",
    "Raw strings are often used when creating Regex objects because they allow special characters,\n",
    "such as backslashes (\\),to be treated as literal characters instead of escape characters."
   ]
  },
  {
   "cell_type": "code",
   "execution_count": null,
   "id": "00139f8e",
   "metadata": {},
   "outputs": [],
   "source": [
    "#3\n",
    "The search() method from the re module in python returns a match object if it finds a match for the\n",
    "specific pattern in the given string, if no match is found it returns None."
   ]
  },
  {
   "cell_type": "code",
   "execution_count": null,
   "id": "423eefe5",
   "metadata": {},
   "outputs": [],
   "source": [
    "#4. From a Match item, how do you get the actual strings that match the pattern?\n",
    "To extract the actual strings that match the pattern from a Match object in Python,\n",
    "you can use the.group() method."
   ]
  },
  {
   "cell_type": "code",
   "execution_count": null,
   "id": "46ff346f",
   "metadata": {},
   "outputs": [],
   "source": [
    "#5. In the regex which created from the r'(\\d\\d\\d)-(\\d\\d\\d-\\d\\d\\d\\d)', what does group zero cover? Group 2? Group 1?\n",
    "Here the group-0 covers the whole string  , group-1 covers the first part of the string (\\d\\d\\d),\n",
    "group=2 covers the second part of the string (\\d\\d\\d-\\d\\d\\d\\d)."
   ]
  },
  {
   "cell_type": "code",
   "execution_count": null,
   "id": "4680c9a5",
   "metadata": {},
   "outputs": [],
   "source": [
    "#6. In standard expression syntax, parentheses and intervals have distinct meanings. How can you tell a regex that you want it to fit real parentheses and periods?\n",
    "\n",
    "To tell a regex that I want to fit real parantheses and periods , I have to use backlash (\\)."
   ]
  },
  {
   "cell_type": "code",
   "execution_count": null,
   "id": "7f136372",
   "metadata": {},
   "outputs": [],
   "source": [
    "#7. The findall() method returns a string list or a list of string tuples. What causes it to return one of the two options?\n",
    "If a pattern does not contain any capturing groups , findall() returns a list of string, where each\n",
    "string is a match of the pattern."
   ]
  },
  {
   "cell_type": "code",
   "execution_count": 1,
   "id": "c1326d08",
   "metadata": {},
   "outputs": [
    {
     "name": "stdout",
     "output_type": "stream",
     "text": [
      "['123', '456']\n"
     ]
    }
   ],
   "source": [
    "import re\n",
    "pattern = r'\\d+'\n",
    "text = 'There are 123 apples and 456 oranges.'\n",
    "matches = re.findall(pattern, text)\n",
    "print(matches)  "
   ]
  },
  {
   "cell_type": "code",
   "execution_count": null,
   "id": "ccf2c03f-43c7-4dec-853c-ee6151200596",
   "metadata": {},
   "outputs": [],
   "source": [
    "If the pattern contains one or more capturing groups ,finsd all returns a list of tuples. Each tuple \n",
    "contains the string matched by the capturing groups in the pattern."
   ]
  },
  {
   "cell_type": "code",
   "execution_count": 2,
   "id": "3d6acf3c",
   "metadata": {},
   "outputs": [
    {
     "name": "stdout",
     "output_type": "stream",
     "text": [
      "[('123', 'apples'), ('456', 'oranges')]\n"
     ]
    }
   ],
   "source": [
    "import re\n",
    "pattern = r'(\\d+)\\s(\\w+)'\n",
    "text = 'There are 123 apples and 456 oranges.'\n",
    "matches = re.findall(pattern, text)\n",
    "print(matches)  "
   ]
  },
  {
   "cell_type": "code",
   "execution_count": null,
   "id": "a422cf42-faad-4f92-bc59-741863ef1aa0",
   "metadata": {},
   "outputs": [],
   "source": [
    "#8. In standard expressions, what does the | character mean?\n",
    "In Python’s regular expressions, the | character is used as the alternation operator. \n",
    "It allows you to match one pattern or another,functioning like a logical OR.\n",
    "eg-cat|dog matches either “cat” or “dog”."
   ]
  },
  {
   "cell_type": "code",
   "execution_count": null,
   "id": "e8ed20ad",
   "metadata": {},
   "outputs": [],
   "source": [
    "#9. In regular expressions, what does the character stand for?\n",
    "In regular expressions, the | character represents an OR operation."
   ]
  },
  {
   "cell_type": "code",
   "execution_count": null,
   "id": "e53821c3",
   "metadata": {},
   "outputs": [],
   "source": [
    "#10.In regular expressions, what is the difference between the + and * characters?\n",
    "In regular expressions, the + and * characters are both quantifiers, but they have distinct meanings:\n",
    "\n",
    "* (Asterisk):\n",
    "Represents zero or more occurrences of the preceding expression.\n",
    "Equivalent to {0,}.\n",
    "For example:\n",
    "a* matches “a,” “aa,” “aaaa,” or an empty string.\n",
    "+ (Plus):\n",
    "Requires at least one occurrence of the preceding expression.\n",
    "Equivalent to {1,}.\n",
    "For example:\n",
    "a+ matches “a,” “aa,” “aaa,” but not an empty string.\n"
   ]
  },
  {
   "cell_type": "code",
   "execution_count": null,
   "id": "49c328f1",
   "metadata": {},
   "outputs": [],
   "source": [
    "#11. What is the difference between {4} and {4,5} in regular expression?\n",
    "In regular expressions, the {4} and {4,5} are both quantifiers that specify the number of occurrences for an expression:\n",
    "\n",
    "{4}:\n",
    "Matches exactly four occurrences of the preceding expression.\n",
    "For example, a{4} matches “aaaa”.\n",
    "{4,5}:\n",
    "Matches between four and five occurrences (inclusive) of the preceding expression.\n",
    "For instance, a{4,5} matches “aaaa” or “aaaaa”."
   ]
  },
  {
   "cell_type": "code",
   "execution_count": null,
   "id": "1165f221",
   "metadata": {},
   "outputs": [],
   "source": [
    "#12. What do you mean by the \\d, \\w, and \\s shorthand character classes signify in regular expressions?\n",
    "\\d (Digit):\n",
    "Matches any digit from 0 to 9.\n",
    "For example, \\\\d+ matches one or more consecutive digits.\n",
    "\\w (Word Character):\n",
    "Matches word characters: letters (both uppercase and lowercase), digits, and underscores (_).\n",
    "Equivalent to [A-Za-z0-9_].\n",
    "\\s (Whitespace Character):\n",
    "Matches whitespace characters: space, tab, newline, carriage return, or form feed.\n",
    "Equivalent to [ \\\\t\\\\r\\\\n\\\\f]."
   ]
  },
  {
   "cell_type": "code",
   "execution_count": null,
   "id": "dab61940",
   "metadata": {},
   "outputs": [],
   "source": [
    "#13. What do means by \\D, \\W, and \\S shorthand character classes signify in regular expressions?\n",
    "\\D (Negated Digit):\n",
    "Matches any character that is not a digit.\n",
    "Equivalent to [^0-9].\n",
    "For example, \\D+ matches one or more consecutive non-digit characters.\n",
    "\\W (Negated Word Character):\n",
    "Matches any character that is not a word character: letters (both uppercase and lowercase), digits, and underscores (_).\n",
    "Equivalent to [^A-Za-z0-9_].\n",
    "For instance, \\W+ matches one or more consecutive non-word characters.\n",
    "\\S (Negated Whitespace Character):\n",
    "Matches any character that is not a whitespace character: space, tab, newline, carriage return, or form feed.\n",
    "Equivalent to [^ \\t\\r\\n\\f].\n",
    "For example, \\S+ matches one or more consecutive non-whitespace characters.\n"
   ]
  },
  {
   "cell_type": "code",
   "execution_count": null,
   "id": "206088ec",
   "metadata": {},
   "outputs": [],
   "source": [
    "#14. What is the difference between .*? and .*?\n",
    ".*? (Lazy Match):\n",
    " It tries to match the shortest possible substring that satisfies the pattern.\n",
    "For example, if you have the string \"abc123def\", the pattern a.*?d would match \"abc1\" because it\n",
    "stops at the first occurrence of d.\n",
    ".* (Greedy Match):\n",
    "It tries to match the longest possible substring that satisfies the pattern.\n",
    "For the same example string \"abc123def\", the pattern a.*d would match the entire string \"abc123def\"\n",
    "because it extends to the last occurrence of d."
   ]
  },
  {
   "cell_type": "code",
   "execution_count": null,
   "id": "e115a740-ca34-49d0-8962-b49ebb9d8dad",
   "metadata": {},
   "outputs": [],
   "source": [
    "#15. What is the syntax for matching both numbers and lowercase letters with a character class?\n",
    "[a-z0-9]\n",
    "[a-z]: Matches any lowercase letter from ‘a’ to ‘z’.\n",
    "[0-9]: Matches any digit from 0 to 9."
   ]
  },
  {
   "cell_type": "code",
   "execution_count": null,
   "id": "917d6ddd-bfb2-4a6d-a649-242160e15bb4",
   "metadata": {},
   "outputs": [],
   "source": [
    "#16. What is the procedure for making a normal expression in regax case insensitive?\n",
    "We can use re.IGNORECASE"
   ]
  },
  {
   "cell_type": "code",
   "execution_count": 1,
   "id": "aac50a5f-91e9-4203-98d8-d2248118fe48",
   "metadata": {},
   "outputs": [
    {
     "name": "stdout",
     "output_type": "stream",
     "text": [
      "Match found!\n"
     ]
    }
   ],
   "source": [
    "import re\n",
    "\n",
    "text = \"Hello World\"\n",
    "pattern = re.compile(\"hello\", re.IGNORECASE)\n",
    "match = pattern.search(text)\n",
    "\n",
    "if match:\n",
    "    print(\"Match found!\")\n",
    "else:\n",
    "    print(\"No match found.\")"
   ]
  },
  {
   "cell_type": "code",
   "execution_count": null,
   "id": "7e0f33ab-e8e7-4d90-923e-dfbb9390b605",
   "metadata": {},
   "outputs": [],
   "source": [
    "#17. What does the . character normally match? What does it match if re.DOTALL is passed as 2nd argument in re.compile()?\n",
    "The . character normally matches any character except newline character"
   ]
  },
  {
   "cell_type": "code",
   "execution_count": 2,
   "id": "f24fb478-38c4-43b1-80bd-b4206e1f5cb6",
   "metadata": {},
   "outputs": [
    {
     "name": "stdout",
     "output_type": "stream",
     "text": [
      "Hello\n",
      "World\n"
     ]
    }
   ],
   "source": [
    "text = \"Hello\\nWorld\"\n",
    "import re\n",
    "\n",
    "pattern = re.compile(r\".*\", re.DOTALL)\n",
    "result = pattern.match(text)\n",
    "print(result.group())"
   ]
  },
  {
   "cell_type": "code",
   "execution_count": null,
   "id": "c407e5a5-4cdb-4c06-ba38-445fe937db29",
   "metadata": {},
   "outputs": [],
   "source": [
    "18. If numReg = re.compile(r'\\d+'), what will numRegex.sub('X', '11 drummers, 10 pipers, five rings, 4 hen') return?"
   ]
  },
  {
   "cell_type": "code",
   "execution_count": 3,
   "id": "7548c639-ede5-43a9-a48d-c80725f3bf71",
   "metadata": {},
   "outputs": [
    {
     "data": {
      "text/plain": [
       "'X drummers, X pipers, five rings, X hen'"
      ]
     },
     "execution_count": 3,
     "metadata": {},
     "output_type": "execute_result"
    }
   ],
   "source": [
    "import re\n",
    "numReg=re.compile(r'\\d+')\n",
    "numReg.sub('X', '11 drummers, 10 pipers, five rings, 4 hen') "
   ]
  },
  {
   "cell_type": "code",
   "execution_count": null,
   "id": "51c28046-d16e-4082-9f13-4026d4c3bd60",
   "metadata": {},
   "outputs": [],
   "source": [
    "19. What does passing re.VERBOSE as the 2nd argument to re.compile() allow to do?"
   ]
  },
  {
   "cell_type": "code",
   "execution_count": null,
   "id": "e81a000c-3266-40e3-9cc4-2db34335074d",
   "metadata": {},
   "outputs": [],
   "source": [
    "it allows you to create a more readable and organized regular expression pattern. The re.VERBOSE \n",
    "flag enables verbose mode, which ignores whitespace and allows comments within the pattern. This \n",
    "makes complex regex patterns easier to understand by breaking them into multiple lines and adding\n",
    "comments. "
   ]
  },
  {
   "cell_type": "code",
   "execution_count": null,
   "id": "2909f935-fbc3-49c7-9f06-81863fd41b0a",
   "metadata": {},
   "outputs": [],
   "source": [
    "20. How would you write a regex that match a number with comma for every three digits? It must match the given following:\n",
    "'42'\n",
    "'1,234'\n",
    "'6,368,745'\n",
    "but not the following:\n",
    "'12,34,567' (which has only two digits between the commas)\n",
    "'1234' (which lacks commas)"
   ]
  },
  {
   "cell_type": "code",
   "execution_count": 1,
   "id": "a1e436c8-e55c-41e2-af46-20e888f2074c",
   "metadata": {},
   "outputs": [
    {
     "name": "stdout",
     "output_type": "stream",
     "text": [
      "'42' matches\n",
      "'1,234' matches\n",
      "'6,368,745' matches\n",
      "'12,34,567' does not match\n",
      "'1234' does not match\n"
     ]
    }
   ],
   "source": [
    "import re\n",
    "\n",
    "pattern = r'^\\d{1,3}(?:,\\d{3})*$'\n",
    "regex = re.compile(pattern)\n",
    "\n",
    "test_numbers = ['42', '1,234', '6,368,745', '12,34,567', '1234']\n",
    "for num in test_numbers:\n",
    "    if regex.match(num):\n",
    "        print(f\"'{num}' matches\")\n",
    "    else:\n",
    "        print(f\"'{num}' does not match\")"
   ]
  },
  {
   "cell_type": "code",
   "execution_count": null,
   "id": "9fe9d592-d2f1-4caa-b3c7-25d6c0b27e7b",
   "metadata": {},
   "outputs": [],
   "source": [
    "21. How would you write a regex that matches the full name of someone whose last name is Watanabe? You can assume that the first name that comes before it will always be one word that begins with a capital letter. The regex must match the following:\n",
    "'Haruto Watanabe'\n",
    "'Alice Watanabe'\n",
    "'RoboCop Watanabe'\n",
    "but not the following:\n",
    "'haruto Watanabe' (where the first name is not capitalized)\n",
    "'Mr. Watanabe' (where the preceding word has a nonletter character)\n",
    "'Watanabe' (which has no first name)"
   ]
  },
  {
   "cell_type": "code",
   "execution_count": 2,
   "id": "ad6fa242-edcd-46e5-8ea7-a4eb4afcda14",
   "metadata": {},
   "outputs": [
    {
     "name": "stdout",
     "output_type": "stream",
     "text": [
      "'Haruto Watanabe' matches\n",
      "'Alice Watanabe' matches\n",
      "'RoboCop Watanabe' does not match\n",
      "'haruto Watanabe' does not match\n",
      "'Mr. Watanabe' does not match\n",
      "'Watanabe' does not match\n"
     ]
    }
   ],
   "source": [
    "import re\n",
    "\n",
    "pattern = r'^[A-Z][a-z]*\\sWatanabe$'\n",
    "regex = re.compile(pattern)\n",
    "\n",
    "\n",
    "test_names = ['Haruto Watanabe', 'Alice Watanabe', 'RoboCop Watanabe', 'haruto Watanabe', 'Mr. Watanabe', 'Watanabe']\n",
    "for name in test_names:\n",
    "    if regex.match(name):\n",
    "        print(f\"'{name}' matches\")\n",
    "    else:\n",
    "        print(f\"'{name}' does not match\")"
   ]
  },
  {
   "cell_type": "code",
   "execution_count": null,
   "id": "818f9c04-30a3-45f1-a0a6-2dc526d26d7f",
   "metadata": {},
   "outputs": [],
   "source": [
    "22. How would you write a regex that matches a sentence where the first word is either Alice, Bob, or Carol; the second word is either eats, pets, or throws; the third word is apples, cats, or baseballs; and the sentence ends with a period? This regex should be case-insensitive. It must match the following:\n",
    "'Alice eats apples.'\n",
    "'Bob pets cats.'\n",
    "'Carol throws baseballs.'\n",
    "'Alice throws Apples.'\n",
    "'BOB EATS CATS.'\n",
    "but not the following:\n",
    "'RoboCop eats apples.'\n",
    "'ALICE THROWS FOOTBALLS.'\n",
    "'Carol eats 7 cats.'"
   ]
  },
  {
   "cell_type": "code",
   "execution_count": 3,
   "id": "dd22c1db-c303-43fb-8453-6d1f13112b99",
   "metadata": {},
   "outputs": [
    {
     "name": "stdout",
     "output_type": "stream",
     "text": [
      "'Alice eats apples.' matches\n",
      "'Bob pets cats.' matches\n",
      "'Carol throws baseballs.' matches\n",
      "'Alice throws Apples.' matches\n",
      "'BOB EATS CATS.' matches\n",
      "'RoboCop eats apples.' does not match\n",
      "'ALICE THROWS FOOTBALLS.' does not match\n",
      "'Carol eats 7 cats.' does not match\n"
     ]
    }
   ],
   "source": [
    "import re\n",
    "\n",
    "pattern = r'^(Alice|Bob|Carol)\\s+(eats|pets|throws)\\s+(apples|cats|baseballs)\\.$'\n",
    "regex = re.compile(pattern, re.IGNORECASE)\n",
    "\n",
    "# Test cases\n",
    "test_sentences = [\n",
    "    'Alice eats apples.',\n",
    "    'Bob pets cats.',\n",
    "    'Carol throws baseballs.',\n",
    "    'Alice throws Apples.',\n",
    "    'BOB EATS CATS.',\n",
    "    'RoboCop eats apples.',\n",
    "    'ALICE THROWS FOOTBALLS.',\n",
    "    'Carol eats 7 cats.'\n",
    "]\n",
    "\n",
    "for sentence in test_sentences:\n",
    "    if regex.match(sentence):\n",
    "        print(f\"'{sentence}' matches\")\n",
    "    else:\n",
    "        print(f\"'{sentence}' does not match\")"
   ]
  }
 ],
 "metadata": {
  "kernelspec": {
   "display_name": "Python 3 (ipykernel)",
   "language": "python",
   "name": "python3"
  },
  "language_info": {
   "codemirror_mode": {
    "name": "ipython",
    "version": 3
   },
   "file_extension": ".py",
   "mimetype": "text/x-python",
   "name": "python",
   "nbconvert_exporter": "python",
   "pygments_lexer": "ipython3",
   "version": "3.11.5"
  }
 },
 "nbformat": 4,
 "nbformat_minor": 5
}
