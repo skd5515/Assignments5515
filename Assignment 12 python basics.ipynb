{
 "cells": [
  {
   "cell_type": "code",
   "execution_count": null,
   "id": "2796cd6f-d6fa-40bc-bd77-0e096fc5fa00",
   "metadata": {},
   "outputs": [],
   "source": [
    "1. In what modes should the PdfFileReader() and PdfFileWriter() File objects will be opened?\n",
    "2. From a PdfFileReader object, how do you get a Page object for page 5?\n",
    "3. What PdfFileReader variable stores the number of pages in the PDF document?\n",
    "4. If a PdfFileReader object’s PDF is encrypted with the password swordfish, what must you do before you can obtain Page objects from it?\n",
    "5. What methods do you use to rotate a page?\n",
    "6. What is the difference between a Run object and a Paragraph object?\n",
    "7. How do you obtain a list of Paragraph objects for a Document object that’s stored in a variable named doc?\n",
    "8. What type of object has bold, underline, italic, strike, and outline variables?\n",
    "9. What is the difference between False, True, and None for the bold variable?\n",
    "10. How do you create a Document object for a new Word document?\n",
    "11. How do you add a paragraph with the text 'Hello, there!' to a Document object stored in a variable named doc?\n",
    "12. What integers represent the levels of headings available in Word documents?\n",
    "\n"
   ]
  },
  {
   "cell_type": "code",
   "execution_count": null,
   "id": "3291e9c0-5612-4a7a-b913-07e1be4ed27b",
   "metadata": {},
   "outputs": [],
   "source": [
    "1.\n",
    "PdfFileReader(): The file should be opened in read-binary mode ('rb'). This mode is \n",
    "used to read the contents of an existing PDF file in binary format.\n",
    "\n",
    "PdfFileWriter(): The file should be opened in write-binary mode ('wb'). This mode is \n",
    "used to write data to a new PDF file in binary format12."
   ]
  },
  {
   "cell_type": "code",
   "execution_count": null,
   "id": "7dbee551-5db7-4964-af79-124ad3739348",
   "metadata": {},
   "outputs": [],
   "source": [
    "#2.From a PdfFileReader object, how do you get a Page object for page 5?\n",
    "import PyPDF2\n",
    "\n",
    "# Open the PDF file in read-binary mode\n",
    "with open('example.pdf', 'rb') as pdf_file:\n",
    "    pdf_reader = PyPDF2.PdfFileReader(pdf_file)\n",
    "    \n",
    "    # Get the Page object for page 5 (index 4)\n",
    "    page_five = pdf_reader.getPage(4)\n",
    "    \n",
    "    # You can now work with the Page object, for example, extract text\n",
    "    text = page_five.extract_text()\n",
    "    print(text)\n"
   ]
  },
  {
   "cell_type": "code",
   "execution_count": null,
   "id": "d0388800-cbb5-4e11-a835-b0ea199e2f47",
   "metadata": {},
   "outputs": [],
   "source": [
    "#3. What PdfFileReader variable stores the number of pages in the PDF document\n",
    "\n",
    "In the PyPDF2 library, the PdfFileReader object has an attribute called numPages\n",
    "that stores the number of pages in the PDF document. Here’s a quick example:"
   ]
  },
  {
   "cell_type": "code",
   "execution_count": null,
   "id": "24097e5c-d694-45bd-bfbe-0e0aa4a112f1",
   "metadata": {},
   "outputs": [],
   "source": [
    "import PyPDF2\n",
    "\n",
    "#open the pdf file \n",
    "file=open('document.pdf','rb')\n",
    "#create a pdf file reader object\n",
    "pdf_reader=PyPDF2.PdfFileReader(file)\n",
    "#get the number of pages \n",
    "num_pages= pdf_reader.numPages\n",
    "\n",
    "print(f'total number of pages :{num_pages}')\n"
   ]
  },
  {
   "cell_type": "code",
   "execution_count": null,
   "id": "dbde6541-6ce3-4ac0-9ded-dc48d3ffb578",
   "metadata": {},
   "outputs": [],
   "source": [
    "#4. If a PdfFileReader object’s PDF is encrypted with the password swordfish, what must you do before you can obtain Page objects from it?"
   ]
  },
  {
   "cell_type": "code",
   "execution_count": null,
   "id": "310ae048-b7c9-44ba-95d5-f28b60350fcc",
   "metadata": {},
   "outputs": [],
   "source": [
    "from PyPDF2 import PdfFileReader\n",
    "\n",
    "with open('encrypted.pdf','rb')as file:\n",
    "    reader=PdfFileReader(file)\n",
    "    if reader.isEncrypted:\n",
    "        reader.decrypt('swordfish')\n",
    "    page=reader.getPage(0)\n",
    "    print(page.extract_text())"
   ]
  },
  {
   "cell_type": "code",
   "execution_count": null,
   "id": "28549418-1e90-46ba-b3f8-bc143404fa22",
   "metadata": {},
   "outputs": [],
   "source": [
    "#5. What methods do you use to rotate a page?"
   ]
  },
  {
   "cell_type": "code",
   "execution_count": null,
   "id": "a887634d-d97b-4a62-8478-15a9e3107fd1",
   "metadata": {},
   "outputs": [],
   "source": [
    "If I have a file as example.pdf , I will rotate a page bu using below methodes."
   ]
  },
  {
   "cell_type": "code",
   "execution_count": null,
   "id": "af89b7df-da79-4f86-af17-e0157952e2da",
   "metadata": {},
   "outputs": [],
   "source": [
    "import PyPDF2\n",
    "\n",
    "#open the pdf file\n",
    "pdf_file = open(\"example.pdf\", \"rb\")\n",
    "reader=PyPDF2.PdfFileReader(pdf_file)\n",
    "writer=PyPDF2.PdfFileWriter()\n",
    "#rotate the first page by 90 degrees\n",
    "page=reader.getPage(0)\n",
    "page.rotateClockwise(90)\n",
    "writer.addPage(page)\n",
    "#save the rotate PDF\n",
    "with open(\"rotated_example.pdf\",\"wb\") as output_pdf:\n",
    "    writer.write(output_pdf)\n",
    "\n"
   ]
  },
  {
   "cell_type": "code",
   "execution_count": null,
   "id": "6a58150e-d2a9-49cb-83ad-1661a7205d0a",
   "metadata": {},
   "outputs": [],
   "source": [
    "6. What is the difference between a Run object and a Paragraph object?"
   ]
  },
  {
   "cell_type": "code",
   "execution_count": null,
   "id": "f6e22857-666f-46a7-8714-f55fc7ea1b6a",
   "metadata": {},
   "outputs": [],
   "source": [
    "A Paragraph is a higher level container that holds one or more Runs.\n",
    "A Run is a smaller unit,a portion of text within a paragraph that has uniform formatting.\n",
    "Examples:-\n",
    "\n",
    "Paragraph:\n",
    "\n",
    "from docx import Document\n",
    "\n",
    "doc = Document()\n",
    "paragraph = doc.add_paragraph(\"This is a paragraph.\")\n",
    "\n",
    "Run:\n",
    "\n",
    "paragraph = doc.add_paragraph()\n",
    "run = paragraph.add_run(\"This is a run.\")\n",
    "run.bold = True"
   ]
  },
  {
   "cell_type": "code",
   "execution_count": null,
   "id": "07efb207-9141-4a48-8dd0-760fa3c09140",
   "metadata": {},
   "outputs": [],
   "source": [
    "7. How do you obtain a list of Paragraph objects for a Document object that’s stored in a variable named doc?"
   ]
  },
  {
   "cell_type": "code",
   "execution_count": null,
   "id": "4956085b-5a19-42cd-af45-f3052b6f8d7e",
   "metadata": {},
   "outputs": [],
   "source": [
    "from docx import Document\n",
    "\n",
    "# Assuming 'doc' is already a loaded Document object\n",
    "doc = Document(\"example.docx\")  # Load a document (if necessary)\n",
    "\n",
    "# Get a list of Paragraph objects\n",
    "paragraphs = doc.paragraphs\n",
    "\n",
    "# Print the text of each paragraph\n",
    "for paragraph in paragraphs:\n",
    "    print(paragraph.text)\n"
   ]
  },
  {
   "cell_type": "code",
   "execution_count": null,
   "id": "a252b05a-5490-4219-a52d-d8a2389ef192",
   "metadata": {},
   "outputs": [],
   "source": [
    "#8. What type of object has bold, underline, italic, strike, and outline variables?"
   ]
  },
  {
   "cell_type": "code",
   "execution_count": null,
   "id": "58ef57ee-7a1d-4531-a1ad-730b2c7f96e7",
   "metadata": {},
   "outputs": [],
   "source": [
    " The run object has bold, underline, italic, strike, and outline variables"
   ]
  },
  {
   "cell_type": "code",
   "execution_count": null,
   "id": "359ba99c-ecb0-4ef1-b05c-9ada0807870d",
   "metadata": {},
   "outputs": [],
   "source": [
    "#9. what is the difference between False, True, and None for the bold variable?"
   ]
  },
  {
   "cell_type": "code",
   "execution_count": null,
   "id": "391a870d-d0e3-4c19-8876-cdc1faa4a477",
   "metadata": {},
   "outputs": [],
   "source": [
    "In a run object for the bold variable:\n",
    "True: means the bold formatting is applied\n",
    "False: means the bold formatting is not applied\n",
    "None:it means the bold setting is not defined—it could either\n",
    "    be True or False later but hasn't been specified yet."
   ]
  },
  {
   "cell_type": "code",
   "execution_count": null,
   "id": "814dc7d8-e58e-4513-a7d8-395dc9735cf1",
   "metadata": {},
   "outputs": [],
   "source": [
    "#10. How do you create a Document object for a new Word document?"
   ]
  },
  {
   "cell_type": "code",
   "execution_count": 5,
   "id": "c3695c89-6150-48a8-8656-3612d16b6abf",
   "metadata": {},
   "outputs": [],
   "source": [
    "#pip install python-docx\n",
    "\n",
    "from docx import Document\n",
    "\n",
    "#creating new  document object\n",
    "doc=Document()\n",
    "doc.add_paragraph('This is new word document')\n",
    "\n",
    "doc.save('new_document.docx')"
   ]
  },
  {
   "cell_type": "code",
   "execution_count": 8,
   "id": "f10a2473-0068-4cd0-ad02-659909239104",
   "metadata": {},
   "outputs": [],
   "source": [
    "#11. How do you add a paragraph with the text 'Hello, there!' to a Document object stored in a variable named doc?\n",
    "\n",
    "doc=Document()\n",
    "\n",
    "doc.add_paragraph('Hello, there!')\n",
    "doc.save('hello_doc.docx')"
   ]
  },
  {
   "cell_type": "code",
   "execution_count": null,
   "id": "2c4ac696-48cc-430f-9b20-7e8173b2ab12",
   "metadata": {},
   "outputs": [],
   "source": [
    "12. What integers represent the levels of headings available in Word documents?"
   ]
  },
  {
   "cell_type": "code",
   "execution_count": null,
   "id": "f8e169db-2db3-4976-9746-8a3b58ab781e",
   "metadata": {},
   "outputs": [],
   "source": [
    "In total, we can use heading levels from 1 to 9 in Word documents, with 1 being the most prominent\n",
    "and 9 being the least prominent."
   ]
  }
 ],
 "metadata": {
  "kernelspec": {
   "display_name": "Python 3 (ipykernel)",
   "language": "python",
   "name": "python3"
  },
  "language_info": {
   "codemirror_mode": {
    "name": "ipython",
    "version": 3
   },
   "file_extension": ".py",
   "mimetype": "text/x-python",
   "name": "python",
   "nbconvert_exporter": "python",
   "pygments_lexer": "ipython3",
   "version": "3.11.5"
  }
 },
 "nbformat": 4,
 "nbformat_minor": 5
}
