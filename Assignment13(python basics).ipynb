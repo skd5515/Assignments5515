{
 "cells": [
  {
   "cell_type": "code",
   "execution_count": null,
   "id": "13a6f8a4-e4e6-441b-98c1-0d8227c5156d",
   "metadata": {},
   "outputs": [],
   "source": [
    "1. What advantages do Excel spreadsheets have over CSV spreadsheets?\n",
    "2.What do you pass to csv.reader() and csv.writer() to create reader and writer objects?\n",
    "3. What modes do File objects for reader and writer objects need to be opened in?\n",
    "4. What method takes a list argument and writes it to a CSV file?\n",
    "5. What do the keyword arguments delimiter and line terminator do?\n",
    "6. What function takes a string of JSON data and returns a Python data structure?\n",
    "7. What function takes a Python data structure and returns a string of JSON data?\n",
    "\n"
   ]
  },
  {
   "cell_type": "code",
   "execution_count": null,
   "id": "8a8ed37d-f06a-48e5-964d-b3f506c4348f",
   "metadata": {},
   "outputs": [],
   "source": [
    "#1\n",
    "Formulas-Excel sheet supports complex formulas and functions.csv does not support formulas.\n",
    "Multiple sheets-Excel files can multiple sheets in a single workbook.CSV is just a single table of data\n",
    "Charts and graphs-Excel supports charts , graphs and images.Csv cannot\n",
    "File size-Excel files are more optimised than large csv files."
   ]
  },
  {
   "cell_type": "code",
   "execution_count": null,
   "id": "3e32f578-274f-4944-8007-233c3254f7a1",
   "metadata": {},
   "outputs": [],
   "source": [
    "#2\n",
    "I will pass the file object  to csv.reader() and csv.writer() to create reader and writer objects."
   ]
  },
  {
   "cell_type": "code",
   "execution_count": null,
   "id": "36804b22-bbb4-4dac-85ec-6d6f1fd733d7",
   "metadata": {},
   "outputs": [],
   "source": [
    "#3\n",
    "For csv.reader(), we need to open the file in read mode ('r'). For csv.writer(),\n",
    "we open the file in write mode ('w') "
   ]
  },
  {
   "cell_type": "code",
   "execution_count": null,
   "id": "49445b78-18dc-4c6d-a090-d2948f8cb874",
   "metadata": {},
   "outputs": [],
   "source": [
    "#4\n",
    " writer.writerow() is the  method takes a list argument and writes it to a CSV file."
   ]
  },
  {
   "cell_type": "code",
   "execution_count": null,
   "id": "44e700fe-2518-47d3-994f-586d748169cc",
   "metadata": {},
   "outputs": [],
   "source": [
    "#5\n",
    "Delimiter:It is the character that separates values in a CSV file,mostly it is a (,) also can be changed.\n",
    "Lineterminator: is the character used to terminate the lines in a csv file ,\\r\\n we use as default."
   ]
  },
  {
   "cell_type": "code",
   "execution_count": null,
   "id": "a656ef36-1b17-404a-a5a8-6bd6cdbc64e1",
   "metadata": {},
   "outputs": [],
   "source": [
    "#6\n",
    "The function  json.loads() takes a string of JSON data and returns a Python data structure\n",
    "Example:"
   ]
  },
  {
   "cell_type": "code",
   "execution_count": 1,
   "id": "48ffec45-697f-447d-b39f-52d2e9d549b4",
   "metadata": {},
   "outputs": [
    {
     "name": "stdout",
     "output_type": "stream",
     "text": [
      "{'name': 'John', 'age': 30, 'city': 'New York'}\n"
     ]
    }
   ],
   "source": [
    "import json\n",
    "# JSON string\n",
    "json_data = '{\"name\": \"John\", \"age\": 30, \"city\": \"New York\"}'\n",
    "# Convert JSON string to Python dictionary\n",
    "data = json.loads(json_data)\n",
    "print(data)"
   ]
  },
  {
   "cell_type": "code",
   "execution_count": null,
   "id": "f98e564b-825b-46b8-9851-f2630d0c976d",
   "metadata": {},
   "outputs": [],
   "source": [
    "#7\n",
    "That would be json.dumps() which takes a Python data structure and returns a string of JSON data"
   ]
  },
  {
   "cell_type": "code",
   "execution_count": 4,
   "id": "bee09e7a-86fa-4c57-b364-140863b80c31",
   "metadata": {},
   "outputs": [
    {
     "name": "stdout",
     "output_type": "stream",
     "text": [
      "{\"name\": \"John\", \"age\": 30, \"city\": \"New York\"}\n"
     ]
    }
   ],
   "source": [
    "import json\n",
    "pdata={\"name\": \"John\", \"age\": 30, \"city\": \"New York\"}\n",
    "json_string=json.dumps(pdata)\n",
    "print(json_string)"
   ]
  },
  {
   "cell_type": "code",
   "execution_count": null,
   "id": "af37b21c-749d-4943-99a4-5a8caf5ff9ad",
   "metadata": {},
   "outputs": [],
   "source": []
  },
  {
   "cell_type": "code",
   "execution_count": null,
   "id": "b74872bc-91e7-495b-b495-532cefbb3c7d",
   "metadata": {},
   "outputs": [],
   "source": []
  },
  {
   "cell_type": "code",
   "execution_count": null,
   "id": "4df48551-a787-4137-be7b-1676e706be28",
   "metadata": {},
   "outputs": [],
   "source": []
  },
  {
   "cell_type": "code",
   "execution_count": null,
   "id": "224da854-21f4-4582-84bb-d444ddb9ce32",
   "metadata": {},
   "outputs": [],
   "source": []
  },
  {
   "cell_type": "code",
   "execution_count": null,
   "id": "2d86a873-888c-47d3-ae56-44877796720d",
   "metadata": {},
   "outputs": [],
   "source": []
  },
  {
   "cell_type": "code",
   "execution_count": null,
   "id": "70140537-6818-470f-bedd-174307c554e1",
   "metadata": {},
   "outputs": [],
   "source": []
  }
 ],
 "metadata": {
  "kernelspec": {
   "display_name": "Python 3 (ipykernel)",
   "language": "python",
   "name": "python3"
  },
  "language_info": {
   "codemirror_mode": {
    "name": "ipython",
    "version": 3
   },
   "file_extension": ".py",
   "mimetype": "text/x-python",
   "name": "python",
   "nbconvert_exporter": "python",
   "pygments_lexer": "ipython3",
   "version": "3.11.5"
  }
 },
 "nbformat": 4,
 "nbformat_minor": 5
}
