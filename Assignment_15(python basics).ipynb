{
 "cells": [
  {
   "cell_type": "code",
   "execution_count": null,
   "id": "020bab1e-23a5-465d-b335-a53be4ac61d6",
   "metadata": {},
   "outputs": [],
   "source": [
    "1.How many seconds are in an hour? Use the interactive interpreter as a calculator and multiply \n",
    "the number of seconds in a minute (60) by the number of minutes in an hour (also 60).\n",
    "sol. 60 \n",
    "2. Assign the result from the previous task (seconds in an hour) to a variable called\n",
    "seconds_per_hour.\n",
    "3. How many seconds do you think there are in a day? Make use of the variables seconds \n",
    "per hour and minutes per hour.\n",
    "4. Calculate seconds per day again, but this time save the result in a variable called\n",
    "seconds_per_day\n",
    "5. Divide seconds_per_day by seconds_per_hour. Use floating-point (/) division.\n",
    "6. Divide seconds_per_day by seconds_per_hour, using integer (//) division. Did this number agree\n",
    "with the floating-point value from the previous question, aside from the final .0?\n",
    "7. Write a generator, genPrimes, that returns the sequence of prime numbers on successive calls to\n",
    "its next() method: 2, 3, 5, 7, 11, ..."
   ]
  },
  {
   "cell_type": "code",
   "execution_count": 2,
   "id": "dbe79b43-aaf3-4a48-ac5b-c2dd99e0c70a",
   "metadata": {},
   "outputs": [],
   "source": [
    "#1\n",
    "seconds_in_a_minute=60\n",
    "minutes_in_an_hour=60\n",
    "seconds_in_an_hour=seconds_in_a_minute*minutes_in_an_hour"
   ]
  },
  {
   "cell_type": "code",
   "execution_count": 3,
   "id": "cb9d35af-c7e0-4e20-89e5-c25e3aa33115",
   "metadata": {},
   "outputs": [
    {
     "data": {
      "text/plain": [
       "3600"
      ]
     },
     "execution_count": 3,
     "metadata": {},
     "output_type": "execute_result"
    }
   ],
   "source": [
    "seconds_in_an_hour"
   ]
  },
  {
   "cell_type": "code",
   "execution_count": 4,
   "id": "c48d7f54-6e2c-4aff-b802-60d57ae5a204",
   "metadata": {},
   "outputs": [],
   "source": [
    "#2\n",
    "seconds_per_hour=3600"
   ]
  },
  {
   "cell_type": "code",
   "execution_count": 5,
   "id": "6609ec63-9ac7-4fad-b2cf-9a1e9ee57a4c",
   "metadata": {},
   "outputs": [
    {
     "data": {
      "text/plain": [
       "86400"
      ]
     },
     "execution_count": 5,
     "metadata": {},
     "output_type": "execute_result"
    }
   ],
   "source": [
    "#3\n",
    "hours_per_day = 24\n",
    "seconds_per_day = seconds_per_hour * hours_per_day\n",
    "seconds_per_day "
   ]
  },
  {
   "cell_type": "code",
   "execution_count": 6,
   "id": "f6e14887-3cc6-4816-8bfb-7b7c3d546032",
   "metadata": {},
   "outputs": [
    {
     "data": {
      "text/plain": [
       "86400"
      ]
     },
     "execution_count": 6,
     "metadata": {},
     "output_type": "execute_result"
    }
   ],
   "source": [
    "#4\n",
    "seconds_per_day "
   ]
  },
  {
   "cell_type": "code",
   "execution_count": 7,
   "id": "e526a56a-e49c-4e1a-855a-42d73a9c7f12",
   "metadata": {},
   "outputs": [
    {
     "data": {
      "text/plain": [
       "24.0"
      ]
     },
     "execution_count": 7,
     "metadata": {},
     "output_type": "execute_result"
    }
   ],
   "source": [
    "#5\n",
    "seconds_per_day /seconds_per_hour"
   ]
  },
  {
   "cell_type": "code",
   "execution_count": 8,
   "id": "6b109bea-dd2b-4b1e-9da9-ee0a7484573f",
   "metadata": {},
   "outputs": [
    {
     "data": {
      "text/plain": [
       "24"
      ]
     },
     "execution_count": 8,
     "metadata": {},
     "output_type": "execute_result"
    }
   ],
   "source": [
    "#6\n",
    "seconds_per_day//seconds_per_hour"
   ]
  },
  {
   "cell_type": "code",
   "execution_count": null,
   "id": "78d36133-fb5a-4aa0-be8a-4c26e50fcb15",
   "metadata": {},
   "outputs": [],
   "source": [
    "Yes this number agreed\n",
    "with the floating-point value from the previous question, aside from the final .0"
   ]
  },
  {
   "cell_type": "code",
   "execution_count": 3,
   "id": "e404860d-d46f-45d7-bd83-5de6fc14567f",
   "metadata": {},
   "outputs": [],
   "source": [
    "#7. Write a generator, genPrimes, that returns the sequence of prime numbers on successive calls to\n",
    "#its next() method: 2, 3, 5, 7, 11, ...\n",
    "\n",
    "\n",
    "def genPrimes():\n",
    "    \n",
    "    p=2\n",
    "    primes=[]\n",
    "    while True:\n",
    "        is_prime=all(p%prime!=0 for prime in primes)\n",
    "        if is_prime:\n",
    "            primes.append(p)\n",
    "            yield p\n",
    "        p+=1\n",
    "        \n",
    "primes=genPrimes()"
   ]
  },
  {
   "cell_type": "code",
   "execution_count": 4,
   "id": "959390c8-1036-4e38-8d6e-077a40d01a2c",
   "metadata": {},
   "outputs": [
    {
     "name": "stdout",
     "output_type": "stream",
     "text": [
      "2\n"
     ]
    }
   ],
   "source": [
    "print(next(primes))"
   ]
  },
  {
   "cell_type": "code",
   "execution_count": 5,
   "id": "4eb66c9c-d287-47c5-a676-ce681d0ab8dc",
   "metadata": {},
   "outputs": [
    {
     "name": "stdout",
     "output_type": "stream",
     "text": [
      "3\n"
     ]
    }
   ],
   "source": [
    "print(next(primes))"
   ]
  },
  {
   "cell_type": "code",
   "execution_count": 6,
   "id": "81fcb07e-b6dc-4379-8a44-c0e0977b6c30",
   "metadata": {},
   "outputs": [
    {
     "name": "stdout",
     "output_type": "stream",
     "text": [
      "5\n"
     ]
    }
   ],
   "source": [
    "print(next(primes))"
   ]
  },
  {
   "cell_type": "code",
   "execution_count": 7,
   "id": "b1299187-d84c-42ae-b237-35a32cf11d94",
   "metadata": {},
   "outputs": [
    {
     "name": "stdout",
     "output_type": "stream",
     "text": [
      "7\n"
     ]
    }
   ],
   "source": [
    "print(next(primes))"
   ]
  },
  {
   "cell_type": "code",
   "execution_count": 8,
   "id": "085b2037-f2c7-44b3-87f9-6a17ce91fae7",
   "metadata": {},
   "outputs": [
    {
     "name": "stdout",
     "output_type": "stream",
     "text": [
      "11\n"
     ]
    }
   ],
   "source": [
    "print(next(primes))"
   ]
  },
  {
   "cell_type": "code",
   "execution_count": 9,
   "id": "8140c334-7c25-436c-9041-ca13fc5f3721",
   "metadata": {},
   "outputs": [
    {
     "name": "stdout",
     "output_type": "stream",
     "text": [
      "13\n"
     ]
    }
   ],
   "source": [
    "print(next(primes))"
   ]
  }
 ],
 "metadata": {
  "kernelspec": {
   "display_name": "Python 3 (ipykernel)",
   "language": "python",
   "name": "python3"
  },
  "language_info": {
   "codemirror_mode": {
    "name": "ipython",
    "version": 3
   },
   "file_extension": ".py",
   "mimetype": "text/x-python",
   "name": "python",
   "nbconvert_exporter": "python",
   "pygments_lexer": "ipython3",
   "version": "3.11.5"
  }
 },
 "nbformat": 4,
 "nbformat_minor": 5
}
