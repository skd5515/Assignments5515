{
 "cells": [
  {
   "cell_type": "code",
   "execution_count": null,
   "id": "1d489bbd",
   "metadata": {},
   "outputs": [],
   "source": [
    "#1\n",
    "Functions are advantegious because they minimise the efforts to write a program\n",
    "a in a repetative manner, they help to reduce the coading time ,helps in testing\n",
    ", reduce debugging time, they are very easy to reuse, they also helps to break \n",
    "complex tasks into manageble components."
   ]
  },
  {
   "cell_type": "code",
   "execution_count": null,
   "id": "f5828d69",
   "metadata": {},
   "outputs": [],
   "source": [
    "#2\n",
    "A code in a function runs when it is called not when it is specified."
   ]
  },
  {
   "cell_type": "code",
   "execution_count": null,
   "id": "1c009b69",
   "metadata": {},
   "outputs": [],
   "source": [
    "#3\n",
    "def statement  creates a function\n"
   ]
  },
  {
   "cell_type": "code",
   "execution_count": null,
   "id": "bb2e5fb9",
   "metadata": {},
   "outputs": [],
   "source": [
    "#4\n",
    "Function is a block of code  to perform a specific task to achieve a particular \n",
    "result, while function call is a act of using the function to achieve the task,\n",
    "function call is used to execute a specific function."
   ]
  },
  {
   "cell_type": "code",
   "execution_count": null,
   "id": "cc41c78f",
   "metadata": {},
   "outputs": [],
   "source": [
    "#5\n",
    "There is a single global scope and can be many local scopes in python program \n"
   ]
  },
  {
   "cell_type": "code",
   "execution_count": null,
   "id": "49e7481c",
   "metadata": {},
   "outputs": [],
   "source": [
    "#6\n",
    "When the function call returns the variables in a local scope got destroyed ,\n",
    "and the values are no longer accessible."
   ]
  },
  {
   "cell_type": "code",
   "execution_count": null,
   "id": "520a8370",
   "metadata": {},
   "outputs": [],
   "source": [
    "#7\n",
    "Return value is a  result that function returenes when it is called, and \n",
    "it is also possible to have a return value in an expression. "
   ]
  },
  {
   "cell_type": "code",
   "execution_count": null,
   "id": "4fb8c01e",
   "metadata": {},
   "outputs": [],
   "source": [
    "#8\n",
    "If a function does not have a return statement , then the return value of the \n",
    "call to that function is none.\n"
   ]
  },
  {
   "cell_type": "code",
   "execution_count": null,
   "id": "ba4278fb",
   "metadata": {},
   "outputs": [],
   "source": [
    "#9\n",
    "I can make a function variable refer to the global variable by using global \n",
    "keyword to refer global variable inside a function . "
   ]
  },
  {
   "cell_type": "code",
   "execution_count": null,
   "id": "80de8d15",
   "metadata": {},
   "outputs": [],
   "source": [
    "#10\n",
    "None data type is  a constant which referes to absence of a value  or a null \n",
    "value."
   ]
  },
  {
   "cell_type": "code",
   "execution_count": 1,
   "id": "2f2956e1",
   "metadata": {},
   "outputs": [
    {
     "name": "stdout",
     "output_type": "stream",
     "text": [
      "<class 'NoneType'>\n"
     ]
    }
   ],
   "source": [
    "print(type(None))"
   ]
  },
  {
   "cell_type": "code",
   "execution_count": 1,
   "id": "999ada8d",
   "metadata": {},
   "outputs": [
    {
     "ename": "ModuleNotFoundError",
     "evalue": "No module named 'areallyourpetsnamederic'",
     "output_type": "error",
     "traceback": [
      "\u001b[1;31m---------------------------------------------------------------------------\u001b[0m",
      "\u001b[1;31mModuleNotFoundError\u001b[0m                       Traceback (most recent call last)",
      "Cell \u001b[1;32mIn[1], line 2\u001b[0m\n\u001b[0;32m      1\u001b[0m \u001b[38;5;66;03m#11\u001b[39;00m\n\u001b[1;32m----> 2\u001b[0m \u001b[38;5;28;01mimport\u001b[39;00m \u001b[38;5;21;01mareallyourpetsnamederic\u001b[39;00m\n",
      "\u001b[1;31mModuleNotFoundError\u001b[0m: No module named 'areallyourpetsnamederic'"
     ]
    }
   ],
   "source": [
    "#11\n",
    "import areallyourpetsnamederic"
   ]
  },
  {
   "cell_type": "code",
   "execution_count": null,
   "id": "85c19d0b",
   "metadata": {},
   "outputs": [],
   "source": [
    "#12\n",
    "If i had a function named bacon() in a module named spam, after importing the spam module,\n",
    "I  would call the bacon() function as spam.bacon()."
   ]
  },
  {
   "cell_type": "code",
   "execution_count": null,
   "id": "227197a6",
   "metadata": {},
   "outputs": [],
   "source": [
    "#13\n",
    "I  can use exception handling to prevent a program from crashing when it encounters an error.\n",
    "The keywords for this are try, except, finally, and raise."
   ]
  },
  {
   "cell_type": "code",
   "execution_count": null,
   "id": "4a47a43a",
   "metadata": {},
   "outputs": [],
   "source": [
    "#14\n",
    "Purpose of the try clause: The try clause is used to enclose a block of code that might potentially raise an exception or cause an error.\n",
    "When the code inside the try block encounters an error, instead of stopping the program abruptly (which is the default behavior),\n",
    "it raises an exception that can be caught and handled.\n",
    "\n",
    "Purpose of the except clause: The except clause is used to catch and handle exceptions. If an exception is raised in the try block,\n",
    "    the code inside the except block is executed.This allows the program to continue running even if there is an error,\n",
    "    and it provides a way to respond to different types of errors in different ways"
   ]
  },
  {
   "cell_type": "code",
   "execution_count": null,
   "id": "52528e8b",
   "metadata": {},
   "outputs": [],
   "source": []
  },
  {
   "cell_type": "code",
   "execution_count": null,
   "id": "aa87415c",
   "metadata": {},
   "outputs": [],
   "source": []
  },
  {
   "cell_type": "code",
   "execution_count": null,
   "id": "19761304",
   "metadata": {},
   "outputs": [],
   "source": []
  },
  {
   "cell_type": "code",
   "execution_count": null,
   "id": "d7214534",
   "metadata": {},
   "outputs": [],
   "source": []
  },
  {
   "cell_type": "code",
   "execution_count": null,
   "id": "190bef49",
   "metadata": {},
   "outputs": [],
   "source": []
  }
 ],
 "metadata": {
  "kernelspec": {
   "display_name": "Python 3 (ipykernel)",
   "language": "python",
   "name": "python3"
  },
  "language_info": {
   "codemirror_mode": {
    "name": "ipython",
    "version": 3
   },
   "file_extension": ".py",
   "mimetype": "text/x-python",
   "name": "python",
   "nbconvert_exporter": "python",
   "pygments_lexer": "ipython3",
   "version": "3.11.5"
  }
 },
 "nbformat": 4,
 "nbformat_minor": 5
}
