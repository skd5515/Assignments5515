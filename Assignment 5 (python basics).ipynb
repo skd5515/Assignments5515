{
 "cells": [
  {
   "cell_type": "code",
   "execution_count": null,
   "id": "47c36513",
   "metadata": {},
   "outputs": [],
   "source": [
    "1. What does an empty dictionary's code look like?\n",
    "2. What is the value of a dictionary value with the key 'foo' and the value 42?\n",
    "3. What is the most significant distinction between a dictionary and a list?\n",
    "4. What happens if you try to access spam['foo'] if spam is {'bar': 100}?\n",
    "5. If a dictionary is stored in spam, what is the difference between the expressions 'cat' in spam and 'cat' in spam.keys()?\n",
    "6. If a dictionary is stored in spam, what is the difference between the expressions 'cat' in spam and 'cat' in spam.values()?\n",
    "7. What is a shortcut for the following code?\n",
    "if 'color' not in spam:\n",
    "spam['color'] = 'black'\n",
    "\n",
    "8. How do you \"pretty print\" dictionary values using which module and function?\n",
    "\n"
   ]
  },
  {
   "cell_type": "code",
   "execution_count": null,
   "id": "3cc5d5e5",
   "metadata": {},
   "outputs": [],
   "source": [
    "#1 What does an empty dictionary's code look like?\n",
    "\n",
    "empty_dict1={}\n",
    "empty_dict2=dict()\n"
   ]
  },
  {
   "cell_type": "code",
   "execution_count": 1,
   "id": "bcaa4c81",
   "metadata": {},
   "outputs": [],
   "source": [
    "#2 What is the value of a dictionary value with the key 'foo' and the value 42?\n",
    "\n",
    "dict={'foo':42}\n"
   ]
  },
  {
   "cell_type": "code",
   "execution_count": 3,
   "id": "35bddfa4",
   "metadata": {},
   "outputs": [],
   "source": [
    "value=dict['foo']"
   ]
  },
  {
   "cell_type": "code",
   "execution_count": 4,
   "id": "af76359d",
   "metadata": {},
   "outputs": [
    {
     "name": "stdout",
     "output_type": "stream",
     "text": [
      "42\n"
     ]
    }
   ],
   "source": [
    "print(value)"
   ]
  },
  {
   "cell_type": "code",
   "execution_count": null,
   "id": "1b7121d5",
   "metadata": {},
   "outputs": [],
   "source": [
    " #3 What is the most significant distinction between a dictionary and a list?\n",
    "    \n",
    "In a list items are arrenged according to there indexes, where as in dictonary  items are arranged \n",
    "in key value pairs, each unique key is associated with a value."
   ]
  },
  {
   "cell_type": "code",
   "execution_count": 5,
   "id": "1eb90b06",
   "metadata": {},
   "outputs": [],
   "source": [
    "#4. What happens if you try to access spam['foo'] if spam is {'bar': 100}?\n",
    "\n",
    "spam={'bar':100}"
   ]
  },
  {
   "cell_type": "code",
   "execution_count": 7,
   "id": "17cb8a37",
   "metadata": {},
   "outputs": [
    {
     "ename": "KeyError",
     "evalue": "'foo'",
     "output_type": "error",
     "traceback": [
      "\u001b[1;31m---------------------------------------------------------------------------\u001b[0m",
      "\u001b[1;31mKeyError\u001b[0m                                  Traceback (most recent call last)",
      "Cell \u001b[1;32mIn[7], line 1\u001b[0m\n\u001b[1;32m----> 1\u001b[0m \u001b[38;5;28mprint\u001b[39m(spam[\u001b[38;5;124m'\u001b[39m\u001b[38;5;124mfoo\u001b[39m\u001b[38;5;124m'\u001b[39m])\n",
      "\u001b[1;31mKeyError\u001b[0m: 'foo'"
     ]
    }
   ],
   "source": [
    "print(spam['foo'])"
   ]
  },
  {
   "cell_type": "code",
   "execution_count": 8,
   "id": "f655f98b",
   "metadata": {},
   "outputs": [],
   "source": [
    "#5. If a dictionary is stored in spam, what is the difference between the expressions 'cat' in spam and 'cat' in spam.keys()?\n",
    "\n",
    "spam={'cat':30}\n"
   ]
  },
  {
   "cell_type": "code",
   "execution_count": 9,
   "id": "8a38b819",
   "metadata": {},
   "outputs": [
    {
     "data": {
      "text/plain": [
       "dict_keys(['cat'])"
      ]
     },
     "execution_count": 9,
     "metadata": {},
     "output_type": "execute_result"
    }
   ],
   "source": [
    "spam.keys() # there is no difference between them  in both the cases 'cat' is the key in the dictionary spam"
   ]
  },
  {
   "cell_type": "code",
   "execution_count": 10,
   "id": "6ce2aaa3",
   "metadata": {},
   "outputs": [],
   "source": [
    "#6. If a dictionary is stored in spam, what is the difference between the expressions 'cat' in spam and 'cat' in spam.values()?\n",
    "\n",
    "spam={'cat':99}"
   ]
  },
  {
   "cell_type": "code",
   "execution_count": 11,
   "id": "82eeb153",
   "metadata": {},
   "outputs": [
    {
     "data": {
      "text/plain": [
       "dict_values([99])"
      ]
     },
     "execution_count": 11,
     "metadata": {},
     "output_type": "execute_result"
    }
   ],
   "source": [
    "spam.values()  #in both the cases expressions for 'cat '  is same"
   ]
  },
  {
   "cell_type": "code",
   "execution_count": null,
   "id": "f8d605c4",
   "metadata": {},
   "outputs": [],
   "source": [
    "#7. What is a shortcut for the following code?\n",
    "#if 'color' not in spam:\n",
    "#spam['color'] = 'black'\n",
    "\n",
    "spam.setdefault('color','black')"
   ]
  },
  {
   "cell_type": "code",
   "execution_count": null,
   "id": "facc098b",
   "metadata": {},
   "outputs": [],
   "source": [
    "8. How do you \"pretty print\" dictionary values using which module and function?"
   ]
  },
  {
   "cell_type": "code",
   "execution_count": null,
   "id": "cf1dbe04",
   "metadata": {},
   "outputs": [],
   "source": [
    "In Python, you can “pretty print” dictionary values using the pprint module and the pprint() function. "
   ]
  },
  {
   "cell_type": "code",
   "execution_count": null,
   "id": "22b5c6b7",
   "metadata": {},
   "outputs": [],
   "source": []
  },
  {
   "cell_type": "code",
   "execution_count": null,
   "id": "3dac7524",
   "metadata": {},
   "outputs": [],
   "source": []
  },
  {
   "cell_type": "code",
   "execution_count": null,
   "id": "1852edfe",
   "metadata": {},
   "outputs": [],
   "source": []
  },
  {
   "cell_type": "code",
   "execution_count": null,
   "id": "7dc56291",
   "metadata": {},
   "outputs": [],
   "source": []
  },
  {
   "cell_type": "code",
   "execution_count": null,
   "id": "ae323abe",
   "metadata": {},
   "outputs": [],
   "source": []
  },
  {
   "cell_type": "code",
   "execution_count": null,
   "id": "7b295d27",
   "metadata": {},
   "outputs": [],
   "source": []
  },
  {
   "cell_type": "code",
   "execution_count": null,
   "id": "b79809e7",
   "metadata": {},
   "outputs": [],
   "source": []
  }
 ],
 "metadata": {
  "kernelspec": {
   "display_name": "Python 3 (ipykernel)",
   "language": "python",
   "name": "python3"
  },
  "language_info": {
   "codemirror_mode": {
    "name": "ipython",
    "version": 3
   },
   "file_extension": ".py",
   "mimetype": "text/x-python",
   "name": "python",
   "nbconvert_exporter": "python",
   "pygments_lexer": "ipython3",
   "version": "3.11.5"
  }
 },
 "nbformat": 4,
 "nbformat_minor": 5
}
