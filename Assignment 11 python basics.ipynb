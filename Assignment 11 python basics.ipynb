{
 "cells": [
  {
   "cell_type": "code",
   "execution_count": null,
   "id": "7292cdd1-eff1-4212-b52f-a475f90f8094",
   "metadata": {},
   "outputs": [],
   "source": [
    "1. Create an assert statement that throws an AssertionError if the variable spam is a negative integer.\n",
    "2. Write an assert statement that triggers an AssertionError if the variables eggs and bacon contain\n",
    "strings that are the same as each other, even if their cases are different (that is, 'hello' and 'hello'\n",
    "are considered the same, and 'goodbye' and 'GOODbye' are also considered the same).\n",
    "3. Create an assert statement that throws an AssertionError every time.\n",
    "4. What are the two lines that must be present in your software in order to call logging.debug()?\n",
    "5. What are the two lines that your program must have in order to have logging.debug() send a logging message to a file named programLog.txt?\n",
    "6. What are the five levels of logging?\n",
    "7. What line of code would you add to your software to disable all logging messages?\n",
    "8.Why is using logging messages better than using print() to display the same message?\n",
    "9. What are the differences between the Step Over, Step In, and Step Out buttons in the debugger?\n",
    "10.After you click Continue, when will the debugger stop ?\n",
    "11. What is the concept of a breakpoint?\n",
    "\n"
   ]
  },
  {
   "cell_type": "code",
   "execution_count": 1,
   "id": "590f3695-6fd9-46b2-9810-707ba971b0ea",
   "metadata": {},
   "outputs": [
    {
     "ename": "AssertionError",
     "evalue": "",
     "output_type": "error",
     "traceback": [
      "\u001b[1;31m---------------------------------------------------------------------------\u001b[0m",
      "\u001b[1;31mAssertionError\u001b[0m                            Traceback (most recent call last)",
      "Cell \u001b[1;32mIn[1], line 4\u001b[0m\n\u001b[0;32m      1\u001b[0m \u001b[38;5;66;03m#1. Create an assert statement that throws an AssertionError if the variable spam is a negative integer.\u001b[39;00m\n\u001b[0;32m      3\u001b[0m spam\u001b[38;5;241m=\u001b[39m\u001b[38;5;241m-\u001b[39m\u001b[38;5;241m1\u001b[39m\n\u001b[1;32m----> 4\u001b[0m \u001b[38;5;28;01massert\u001b[39;00m spam\u001b[38;5;241m>\u001b[39m\u001b[38;5;241m=\u001b[39m\u001b[38;5;241m0\u001b[39m\n",
      "\u001b[1;31mAssertionError\u001b[0m: "
     ]
    }
   ],
   "source": [
    "#1. Create an assert statement that throws an AssertionError if the variable spam is a negative integer.\n",
    "\n",
    "spam=-1\n",
    "assert spam>=0"
   ]
  },
  {
   "cell_type": "code",
   "execution_count": null,
   "id": "7336dc92-fef4-483f-971a-43d304f4dff9",
   "metadata": {},
   "outputs": [],
   "source": [
    "2. Write an assert statement that triggers an AssertionError if the variables eggs and bacon contain\n",
    "strings that are the same as each other, even if their cases are different (that is, 'hello' and 'hello'\n",
    "are considered the same, and 'goodbye' and 'GOODbye' are also considered the same)."
   ]
  },
  {
   "cell_type": "code",
   "execution_count": 6,
   "id": "1e894032-23cf-4be7-969a-98d300d6ae9d",
   "metadata": {},
   "outputs": [],
   "source": [
    "egg='Hello'\n",
    "bacon='hello'"
   ]
  },
  {
   "cell_type": "code",
   "execution_count": 7,
   "id": "438df754-910b-4019-920a-6f56da475741",
   "metadata": {
    "scrolled": true
   },
   "outputs": [
    {
     "ename": "AssertionError",
     "evalue": "",
     "output_type": "error",
     "traceback": [
      "\u001b[1;31m---------------------------------------------------------------------------\u001b[0m",
      "\u001b[1;31mAssertionError\u001b[0m                            Traceback (most recent call last)",
      "Cell \u001b[1;32mIn[7], line 1\u001b[0m\n\u001b[1;32m----> 1\u001b[0m \u001b[38;5;28;01massert\u001b[39;00m egg\u001b[38;5;241m.\u001b[39mlower()\u001b[38;5;241m!=\u001b[39mbacon\u001b[38;5;241m.\u001b[39mlower()\n",
      "\u001b[1;31mAssertionError\u001b[0m: "
     ]
    }
   ],
   "source": [
    "assert egg.lower()!=bacon.lower()\n"
   ]
  },
  {
   "cell_type": "code",
   "execution_count": null,
   "id": "8682982e-ad80-4090-b129-153426a3f0ac",
   "metadata": {},
   "outputs": [],
   "source": [
    "#3. Create an assert statement that throws an AssertionError every time.\n",
    "assert False, \"This will always raise an AssertionError\""
   ]
  },
  {
   "cell_type": "code",
   "execution_count": null,
   "id": "5165a5ab-27ba-4adf-866e-be9e286532ad",
   "metadata": {},
   "outputs": [],
   "source": [
    "#4. What are the two lines that must be present in your software in order to call logging.debug()?\n",
    "logging.basicConfig(level=logging.DEBUG)\n",
    "logging.debug(\"This is a debug message\")"
   ]
  },
  {
   "cell_type": "code",
   "execution_count": null,
   "id": "0d667b0f-0c9a-4eac-840f-217ac3696c7b",
   "metadata": {},
   "outputs": [],
   "source": [
    "#5. What are the two lines that your program must have in order to have logging.debug() send a logging message to a file named programLog.txt?\n",
    "logging.basicConfig(filename='programLog.txt', level=logging.DEBUG)\n",
    "logging.debug(\"This is a debug message\")"
   ]
  },
  {
   "cell_type": "code",
   "execution_count": null,
   "id": "cf50cc7c-cba5-4d15-aaf3-e89ea7e7dc8f",
   "metadata": {},
   "outputs": [],
   "source": [
    "6. What are the five levels of logging?\n",
    "\n",
    ">DEBUG: Detailed information, typically of interest only when diagnosing problems.\n",
    ">INFO: Confirmation that things are working as expected.\n",
    ">WARNING: An indication that something unexpected happened, or indicative of some problem in the near future (e.g., ‘disk space low’). The software is still working as expected.\n",
    ">ERROR: Due to a more serious problem, the software has not been able to perform some function.\n",
    ">CRITICAL: A serious error, indicating that the program itself may be unable to continue running.\n"
   ]
  },
  {
   "cell_type": "code",
   "execution_count": null,
   "id": "f7817016-af71-478f-a7bb-a123c2ee6237",
   "metadata": {},
   "outputs": [],
   "source": [
    "#7. What line of code would you add to your software to disable all logging messages?\n",
    "\n",
    "logging.disable(logging.CRITICAL)\n",
    "\n",
    "Since CRITICAL is the highest logging level, it effectively disables all logging\n",
    "messages from appearing (including DEBUG, INFO, WARNING, ERROR, and CRITICAL)."
   ]
  },
  {
   "cell_type": "code",
   "execution_count": null,
   "id": "536f939a-1efa-4663-9143-81de856de5bb",
   "metadata": {},
   "outputs": [],
   "source": [
    "#8.Why is using logging messages better than using print() to display the same message?\n",
    "\n",
    "There are many  uses of logging :\n",
    "            -Logging provides many levels of severity like(e.g., DEBUG, INFO,\n",
    "            WARNING, ERROR, CRITICAL) which allow to categorise the current \n",
    "            state of the program\n",
    "\n",
    "            -logs can include metadata which helps with debugging aand tracing\n",
    "            the program's flow\n",
    "            -With proper configuration, logs can be automatically written to\n",
    "            files and even rolled over based on size or time, ensuring efficient\n",
    "            log file management.\n",
    "            -Using logging provides a much more flexible, powerful, and scalable\n",
    "            approach to capturing messages, especially in larger applications or\n",
    "            production environments.\n",
    "\n",
    "That's why using logging messages better than using print() to display the same message."
   ]
  },
  {
   "cell_type": "code",
   "execution_count": null,
   "id": "51ac2616-4079-4f15-a6d0-668e71e01458",
   "metadata": {},
   "outputs": [],
   "source": [
    "#9. What are the differences between the Step Over, Step In, and Step Out buttons in the debugger?\n",
    "\n",
    "-Step Over: Executes the current line and continues to the next line in the same scope,\n",
    "skipping over any function calls.\n",
    "\n",
    "-Step In: Executes the current line and steps into any function or method called on that\n",
    "line, allowing you to debug inside that function.\n",
    "    \n",
    "-Step Out: Completes the execution of the current function and returns to the caller, \n",
    "stopping at the line immediately after the function call."
   ]
  },
  {
   "cell_type": "code",
   "execution_count": null,
   "id": "44c7c8fd-69fe-4ea0-a533-a3c9e9a07c1c",
   "metadata": {},
   "outputs": [],
   "source": [
    "#10.After you click Continue, when will the debugger stop ?\n",
    "\n",
    "Continue resumes execution until the next breakpoint or the end of the program.\n",
    "It will also pause if an exception occurs (if configured to do so)."
   ]
  },
  {
   "cell_type": "code",
   "execution_count": null,
   "id": "3fb4c4ea-815f-47d0-8355-f38be861e5fb",
   "metadata": {},
   "outputs": [],
   "source": [
    "#11. What is the concept of a breakpoint?\n",
    "Breakpoints are fundamental debugging tools that allow to pause and inspect \n",
    "code execution to troubleshoot and understand program behavior."
   ]
  },
  {
   "cell_type": "code",
   "execution_count": null,
   "id": "ad22a939-ba92-4e64-85be-5f048f44c220",
   "metadata": {},
   "outputs": [],
   "source": []
  },
  {
   "cell_type": "code",
   "execution_count": null,
   "id": "4e5d9ef1-1fb8-4175-9d24-046d882cca59",
   "metadata": {},
   "outputs": [],
   "source": []
  },
  {
   "cell_type": "code",
   "execution_count": null,
   "id": "73e29a58-1d76-431d-adef-d4ba832da2c4",
   "metadata": {},
   "outputs": [],
   "source": []
  },
  {
   "cell_type": "code",
   "execution_count": null,
   "id": "832af697-8f30-4302-9e97-c43ed53a1acf",
   "metadata": {},
   "outputs": [],
   "source": []
  },
  {
   "cell_type": "code",
   "execution_count": null,
   "id": "7e66eddd-c1ef-46ec-a6a7-79a40748ff91",
   "metadata": {},
   "outputs": [],
   "source": []
  },
  {
   "cell_type": "code",
   "execution_count": null,
   "id": "41bcb24c-62ad-4fd6-b77f-b633cbf27c74",
   "metadata": {},
   "outputs": [],
   "source": []
  },
  {
   "cell_type": "code",
   "execution_count": null,
   "id": "e4d62a98-e417-4d50-a349-53209cff4546",
   "metadata": {},
   "outputs": [],
   "source": []
  },
  {
   "cell_type": "code",
   "execution_count": null,
   "id": "4b5220ce-1edb-4a1f-b834-c03195ebca83",
   "metadata": {},
   "outputs": [],
   "source": []
  },
  {
   "cell_type": "code",
   "execution_count": null,
   "id": "6805f6aa-2da1-41bd-8838-0bec701a1ead",
   "metadata": {},
   "outputs": [],
   "source": []
  },
  {
   "cell_type": "code",
   "execution_count": null,
   "id": "3846a0ff-fcc3-4603-911d-947d9769e80d",
   "metadata": {},
   "outputs": [],
   "source": []
  },
  {
   "cell_type": "code",
   "execution_count": null,
   "id": "9922f8ca-ae21-4d39-91f6-922410e40acf",
   "metadata": {},
   "outputs": [],
   "source": []
  }
 ],
 "metadata": {
  "kernelspec": {
   "display_name": "Python 3 (ipykernel)",
   "language": "python",
   "name": "python3"
  },
  "language_info": {
   "codemirror_mode": {
    "name": "ipython",
    "version": 3
   },
   "file_extension": ".py",
   "mimetype": "text/x-python",
   "name": "python",
   "nbconvert_exporter": "python",
   "pygments_lexer": "ipython3",
   "version": "3.11.5"
  }
 },
 "nbformat": 4,
 "nbformat_minor": 5
}
