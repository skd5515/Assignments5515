{
 "cells": [
  {
   "cell_type": "code",
   "execution_count": null,
   "id": "a27a9d3d-954d-4c2c-a02e-31e74f461151",
   "metadata": {},
   "outputs": [],
   "source": [
    "1. Is the Python Standard Library included with PyInputPlus?\n",
    "2. Why is PyInputPlus commonly imported with import pyinputplus as pypi?\n",
    "3. How do you distinguish between inputInt() and inputFloat()?\n",
    "4. Using PyInputPlus, how do you ensure that the user enters a whole number between 0 and 99?\n",
    "5. What is transferred to the keyword arguments allowRegexes and blockRegexes?\n",
    "6. If a blank input is entered three times, what does inputStr(limit=3) do?\n",
    "7. If blank input is entered three times, what does inputStr(limit=3, default='hello') do?\n"
   ]
  },
  {
   "cell_type": "code",
   "execution_count": null,
   "id": "e4d8994e-d7d6-4134-a6ee-2ac8c17f3d19",
   "metadata": {},
   "outputs": [],
   "source": [
    "1.Python Standard Library is not included with PyInputPlus. "
   ]
  },
  {
   "cell_type": "code",
   "execution_count": null,
   "id": "2ae21052-aba9-4e06-b482-9dadb64224c7",
   "metadata": {},
   "outputs": [],
   "source": [
    "2.The import pyinputplus as pyip statement allows you to use a shorter name (pyip) when calling \n",
    "functions from the PyInputPlus module1. It’s a convenient way to avoid typing out the full module\n",
    "name each time ."
   ]
  },
  {
   "cell_type": "code",
   "execution_count": null,
   "id": "1afdf467-4b52-4a19-b543-e9987c41d2a5",
   "metadata": {},
   "outputs": [],
   "source": [
    "3. inputInt() will always want an integer value as input , while inputFloat() always want decimal \n",
    "points in input value. both of these don't take any value except an integer value or  a float value\n",
    "with decimal."
   ]
  },
  {
   "cell_type": "code",
   "execution_count": 1,
   "id": "25b0a91a-0638-470b-a3e1-4ebac331f32b",
   "metadata": {},
   "outputs": [
    {
     "ename": "ModuleNotFoundError",
     "evalue": "No module named 'pyinputplus'",
     "output_type": "error",
     "traceback": [
      "\u001b[1;31m---------------------------------------------------------------------------\u001b[0m",
      "\u001b[1;31mModuleNotFoundError\u001b[0m                       Traceback (most recent call last)",
      "Cell \u001b[1;32mIn[1], line 2\u001b[0m\n\u001b[0;32m      1\u001b[0m \u001b[38;5;66;03m#4.\u001b[39;00m\n\u001b[1;32m----> 2\u001b[0m \u001b[38;5;28;01mimport\u001b[39;00m \u001b[38;5;21;01mpyinputplus\u001b[39;00m \u001b[38;5;28;01mas\u001b[39;00m \u001b[38;5;21;01mpyip\u001b[39;00m\n\u001b[0;32m      4\u001b[0m user_input \u001b[38;5;241m=\u001b[39m pyip\u001b[38;5;241m.\u001b[39minputInt(prompt\u001b[38;5;241m=\u001b[39m\u001b[38;5;124m\"\u001b[39m\u001b[38;5;124mPlease enter a whole number between 0 and 99: \u001b[39m\u001b[38;5;124m\"\u001b[39m, \u001b[38;5;28mmin\u001b[39m\u001b[38;5;241m=\u001b[39m\u001b[38;5;241m0\u001b[39m, \u001b[38;5;28mmax\u001b[39m\u001b[38;5;241m=\u001b[39m\u001b[38;5;241m99\u001b[39m)\n\u001b[0;32m      5\u001b[0m \u001b[38;5;28mprint\u001b[39m(\u001b[38;5;124mf\u001b[39m\u001b[38;5;124m\"\u001b[39m\u001b[38;5;124mYou entered: \u001b[39m\u001b[38;5;132;01m{\u001b[39;00muser_input\u001b[38;5;132;01m}\u001b[39;00m\u001b[38;5;124m\"\u001b[39m)\n",
      "\u001b[1;31mModuleNotFoundError\u001b[0m: No module named 'pyinputplus'"
     ]
    }
   ],
   "source": [
    "#4.\n",
    "import pyinputplus as pyip\n",
    "\n",
    "user_input = pyip.inputInt(prompt=\"Please enter a whole number between 0 and 99: \", min=0, max=99)\n",
    "print(f\"You entered: {user_input}\")"
   ]
  },
  {
   "cell_type": "code",
   "execution_count": 3,
   "id": "75ee1da4-94fe-4684-bc61-50d4d57243b4",
   "metadata": {},
   "outputs": [
    {
     "ename": "ModuleNotFoundError",
     "evalue": "No module named 'pyinputplus'",
     "output_type": "error",
     "traceback": [
      "\u001b[1;31m---------------------------------------------------------------------------\u001b[0m",
      "\u001b[1;31mModuleNotFoundError\u001b[0m                       Traceback (most recent call last)",
      "Cell \u001b[1;32mIn[3], line 1\u001b[0m\n\u001b[1;32m----> 1\u001b[0m \u001b[38;5;28;01mimport\u001b[39;00m \u001b[38;5;21;01mpyinputplus\u001b[39;00m \u001b[38;5;28;01mas\u001b[39;00m \u001b[38;5;21;01mpyip\u001b[39;00m\n",
      "\u001b[1;31mModuleNotFoundError\u001b[0m: No module named 'pyinputplus'"
     ]
    }
   ],
   "source": [
    "import pyinputplus as pyip"
   ]
  },
  {
   "cell_type": "code",
   "execution_count": null,
   "id": "a5e0f854-3952-4856-af23-95d10866a8b5",
   "metadata": {},
   "outputs": [],
   "source": [
    "5. What is transferred to the keyword arguments allowRegexes and blockRegexes?"
   ]
  },
  {
   "cell_type": "code",
   "execution_count": null,
   "id": "d4b00d1c-4a1b-4079-a282-2360487a15a3",
   "metadata": {},
   "outputs": [],
   "source": [
    "allowRegexes:\n",
    "You can pass a list of regular expressions to allowRegexes.\n",
    "If the user’s input matches any of these regular expressions, it is considered valid.\n",
    "For example, if you want to allow only inputs that start with an uppercase letter, you can set allowRegexes=[r'^[A-Z]'].\n",
    "blockRegexes:\n",
    "Similar to allowRegexes, you can pass a list of regular expressions to blockRegexes.\n",
    "If the user’s input matches any of these regular expressions, it is considered invalid.\n",
    "For instance, if you want to block any input containing the word “password,” you can set blockRegexes=[r'password']."
   ]
  },
  {
   "cell_type": "code",
   "execution_count": null,
   "id": "c266c521-8f1f-4d3a-beac-c8d41ec2a675",
   "metadata": {},
   "outputs": [],
   "source": [
    "6. If a blank input is entered three times, what does inputStr(limit=3) do?"
   ]
  },
  {
   "cell_type": "code",
   "execution_count": null,
   "id": "cbc1b351-1f19-401c-a204-232e9c798a8e",
   "metadata": {},
   "outputs": [],
   "source": [
    "If the user enters a blank input (i.e., an empty string) three times consecutively, the function\n",
    "raises a pyinputplus.RetryLimitExceptionThis exception indicates that the user exceeded the\n",
    "specified limit for blank inputs. "
   ]
  },
  {
   "cell_type": "code",
   "execution_count": null,
   "id": "92b5b5e7-04c0-43d4-8ea0-59c5497fda1a",
   "metadata": {},
   "outputs": [],
   "source": [
    "7. If blank input is entered three times, what does inputStr(limit=3, default='hello') do?"
   ]
  },
  {
   "cell_type": "code",
   "execution_count": null,
   "id": "f47ba1fa-c1b7-42b2-94d3-4df0ff1c9fae",
   "metadata": {},
   "outputs": [],
   "source": [
    "If the user still doesn’t provide valid input after three attempts, the function returns the default value 'hello'.\n",
    "\n",
    "    If the user enters “world” on the first attempt, the function returns “world.”\n",
    "If the user enters blank input three times, the function returns the default value “hello” "
   ]
  },
  {
   "cell_type": "code",
   "execution_count": null,
   "id": "4e8c5ec3-5bec-44f8-b28e-a8a54454ea06",
   "metadata": {},
   "outputs": [],
   "source": []
  },
  {
   "cell_type": "code",
   "execution_count": null,
   "id": "d4b69285-847d-45da-8d96-36b0634cb83b",
   "metadata": {},
   "outputs": [],
   "source": []
  }
 ],
 "metadata": {
  "kernelspec": {
   "display_name": "Python 3 (ipykernel)",
   "language": "python",
   "name": "python3"
  },
  "language_info": {
   "codemirror_mode": {
    "name": "ipython",
    "version": 3
   },
   "file_extension": ".py",
   "mimetype": "text/x-python",
   "name": "python",
   "nbconvert_exporter": "python",
   "pygments_lexer": "ipython3",
   "version": "3.11.5"
  }
 },
 "nbformat": 4,
 "nbformat_minor": 5
}
