{
 "cells": [
  {
   "cell_type": "code",
   "execution_count": null,
   "id": "d441b930",
   "metadata": {},
   "outputs": [],
   "source": [
    "#1\n",
    "It is an empty list, list can store multiple items in a single\n",
    "variable"
   ]
  },
  {
   "cell_type": "code",
   "execution_count": 6,
   "id": "ad4d0d82",
   "metadata": {},
   "outputs": [],
   "source": [
    "#2\n",
    "spam=[2,4,6,8,10]"
   ]
  },
  {
   "cell_type": "code",
   "execution_count": 7,
   "id": "d0b611d6",
   "metadata": {},
   "outputs": [],
   "source": [
    "spam[2]=('hellow')"
   ]
  },
  {
   "cell_type": "code",
   "execution_count": 8,
   "id": "fb54b67c",
   "metadata": {},
   "outputs": [
    {
     "data": {
      "text/plain": [
       "[2, 4, 'hellow', 8, 10]"
      ]
     },
     "execution_count": 8,
     "metadata": {},
     "output_type": "execute_result"
    }
   ],
   "source": [
    "spam"
   ]
  },
  {
   "cell_type": "code",
   "execution_count": 9,
   "id": "14638836",
   "metadata": {},
   "outputs": [],
   "source": [
    "#3\n",
    "spam=['a','b','c','d']"
   ]
  },
  {
   "cell_type": "code",
   "execution_count": 10,
   "id": "c108b4d6",
   "metadata": {},
   "outputs": [
    {
     "data": {
      "text/plain": [
       "'d'"
      ]
     },
     "execution_count": 10,
     "metadata": {},
     "output_type": "execute_result"
    }
   ],
   "source": [
    "#3\n",
    "spam[int(int('3'*2)/11)]"
   ]
  },
  {
   "cell_type": "code",
   "execution_count": 11,
   "id": "bc1e4515",
   "metadata": {},
   "outputs": [
    {
     "data": {
      "text/plain": [
       "'d'"
      ]
     },
     "execution_count": 11,
     "metadata": {},
     "output_type": "execute_result"
    }
   ],
   "source": [
    "#4\n",
    "spam[-1]"
   ]
  },
  {
   "cell_type": "code",
   "execution_count": 12,
   "id": "964639fa",
   "metadata": {},
   "outputs": [
    {
     "data": {
      "text/plain": [
       "['a', 'b']"
      ]
     },
     "execution_count": 12,
     "metadata": {},
     "output_type": "execute_result"
    }
   ],
   "source": [
    "#5\n",
    "spam[:2]"
   ]
  },
  {
   "cell_type": "code",
   "execution_count": 14,
   "id": "a935ce8d",
   "metadata": {},
   "outputs": [],
   "source": [
    "bacon = [3.14, 'cat', 11, 'cat', True] "
   ]
  },
  {
   "cell_type": "code",
   "execution_count": 15,
   "id": "2526c40a",
   "metadata": {},
   "outputs": [
    {
     "data": {
      "text/plain": [
       "1"
      ]
     },
     "execution_count": 15,
     "metadata": {},
     "output_type": "execute_result"
    }
   ],
   "source": [
    "#6\n",
    "bacon.index('cat')"
   ]
  },
  {
   "cell_type": "code",
   "execution_count": 17,
   "id": "739e3271",
   "metadata": {},
   "outputs": [],
   "source": [
    "#7\n",
    "bacon.append(99)"
   ]
  },
  {
   "cell_type": "code",
   "execution_count": 18,
   "id": "77455339",
   "metadata": {},
   "outputs": [
    {
     "data": {
      "text/plain": [
       "[3.14, 'cat', 11, 'cat', True, 99]"
      ]
     },
     "execution_count": 18,
     "metadata": {},
     "output_type": "execute_result"
    }
   ],
   "source": [
    "bacon"
   ]
  },
  {
   "cell_type": "code",
   "execution_count": 19,
   "id": "5247dd79",
   "metadata": {},
   "outputs": [],
   "source": [
    "#8\n",
    "bacon.remove('cat') "
   ]
  },
  {
   "cell_type": "code",
   "execution_count": 20,
   "id": "5d3516b5",
   "metadata": {},
   "outputs": [
    {
     "data": {
      "text/plain": [
       "[3.14, 11, 'cat', True, 99]"
      ]
     },
     "execution_count": 20,
     "metadata": {},
     "output_type": "execute_result"
    }
   ],
   "source": [
    "bacon"
   ]
  },
  {
   "cell_type": "code",
   "execution_count": null,
   "id": "9d53a032",
   "metadata": {},
   "outputs": [],
   "source": [
    "#9\n",
    "list Concatenation (+): This operator is used to combine two lists together.\n",
    "    For example, [1, 2, 3] + [4, 5, 6] results in [1, 2, 3, 4, 5, 6].\n",
    "list Replication (*): This operator is used to repeat a list a certain number of times.\n",
    "    For example, [1, 2, 3] * 3 results in [1, 2, 3, 1, 2, 3, 1, 2, 3]."
   ]
  },
  {
   "cell_type": "code",
   "execution_count": null,
   "id": "20b30281",
   "metadata": {},
   "outputs": [],
   "source": [
    "#10\n",
    "The difference between append() and insert() is append ads element at \n",
    "the end of the list , while insert adds element at specific index.    "
   ]
  },
  {
   "cell_type": "code",
   "execution_count": null,
   "id": "1fc270f2",
   "metadata": {},
   "outputs": [],
   "source": [
    "#11\n",
    "The two methodes  used to removing items from a list are remove() and\n",
    "pop()"
   ]
  },
  {
   "cell_type": "code",
   "execution_count": null,
   "id": "3f5055d4",
   "metadata": {},
   "outputs": [],
   "source": [
    "#12 List values and string values are identical\n",
    "Indexing: Both lists and strings can be indexed. For example,\n",
    "    if str_val = 'Hello' and list_val = ['H', 'e', 'l', 'l', 'o'],\n",
    "    str_val[1] and list_val[1] will both return 'e'.\n",
    "\n",
    "Length: The len() function can be used to find the number of elements\n",
    "    in both lists and strings.\n",
    "\n",
    "Iteration: Both lists and strings are iterable, meaning you can loop \n",
    "    over each element in a list or string using a for loop.\n",
    "\n",
    "Concatenation: Lists and strings can both be concatenated using the + operator.\n",
    "    For example, 'Hello ' + 'World' results in 'Hello World',\n",
    "    and [1, 2] + [3, 4] results in [1, 2, 3, 4].\n",
    "\n",
    "Repetition: Both lists and strings can be repeated using the * operator.\n",
    "    For example, 'Hello' * 3 results in 'HelloHelloHello',\n",
    "    and [1, 2] * 3 results in [1, 2, 1, 2, 1, 2].\n",
    "\n",
    "Membership: The in keyword can be used to check if an element is present\n",
    "    in a list or string."
   ]
  },
  {
   "cell_type": "code",
   "execution_count": null,
   "id": "2f661a71",
   "metadata": {},
   "outputs": [],
   "source": [
    "Mutability: Lists are mutable, meaning you can change their content without changing their identity. You can modify a list by adding, removing, or changing elements. On the other hand, tuples are immutable. Once a tuple is created, it cannot be changed.\n",
    "\n",
    "Syntax: Lists are defined by enclosing the elements in square brackets [], while tuples are enclosed in parentheses ().\n",
    "\n",
    "Use Cases: Because of their immutability, tuples are often used for heterogeneous (different) data types and lists for homogeneous (similar) data types. Tuples can be used as keys in dictionaries, while lists cannot."
   ]
  },
  {
   "cell_type": "code",
   "execution_count": null,
   "id": "fdbfc6bd",
   "metadata": {},
   "outputs": [],
   "source": [
    "#13 tuples and list jdifference\n",
    "\n",
    "\n",
    "Syntax: Lists are denoted by square brackets [], while tuples are denoted by parentheses ()1.\n",
    "Memory and Performance: Tuples are more memory-efficient and \n",
    "    slightly faster for certain operations, especially for large amounts of data.\n",
    "Usage: Lists are often used for homogeneous items (items of the same type)\n",
    "    and when you need to change the items over time. Tuples are typically used\n",
    "    for heterogeneous items (items of different types) and when the items won’t change.\n",
    "Methods: Lists have several built-in methods for modification like append, insert, etc.,\n",
    "    while tuples do not have many built-in methods"
   ]
  },
  {
   "cell_type": "code",
   "execution_count": null,
   "id": "52972b33",
   "metadata": {},
   "outputs": [],
   "source": [
    "#14\n",
    "t=(42,)"
   ]
  },
  {
   "cell_type": "code",
   "execution_count": 1,
   "id": "830990c9",
   "metadata": {},
   "outputs": [],
   "source": [
    "#15\n",
    "my_list = [1, 2, 3]\n",
    "my_tuple = tuple(my_list)"
   ]
  },
  {
   "cell_type": "code",
   "execution_count": 2,
   "id": "8e1627ab",
   "metadata": {},
   "outputs": [
    {
     "data": {
      "text/plain": [
       "(1, 2, 3)"
      ]
     },
     "execution_count": 2,
     "metadata": {},
     "output_type": "execute_result"
    }
   ],
   "source": [
    "my_tuple"
   ]
  },
  {
   "cell_type": "code",
   "execution_count": 3,
   "id": "03a0574a",
   "metadata": {},
   "outputs": [],
   "source": [
    "my_tuple = (1, 2, 3)\n",
    "my_list = list(my_tuple)"
   ]
  },
  {
   "cell_type": "code",
   "execution_count": 4,
   "id": "19e01413",
   "metadata": {},
   "outputs": [
    {
     "data": {
      "text/plain": [
       "[1, 2, 3]"
      ]
     },
     "execution_count": 4,
     "metadata": {},
     "output_type": "execute_result"
    }
   ],
   "source": [
    "my_list"
   ]
  },
  {
   "cell_type": "code",
   "execution_count": null,
   "id": "5cc19200",
   "metadata": {},
   "outputs": [],
   "source": [
    "#16\n",
    "Variable that contains list values are not lists themselves,they actually \n",
    "contains references to the list value"
   ]
  },
  {
   "cell_type": "code",
   "execution_count": 5,
   "id": "645eb361",
   "metadata": {},
   "outputs": [],
   "source": [
    "#example\n",
    "old_list=[1,2,3,4]\n",
    "new_list=old_list"
   ]
  },
  {
   "cell_type": "code",
   "execution_count": 6,
   "id": "a3f06f86",
   "metadata": {},
   "outputs": [
    {
     "data": {
      "text/plain": [
       "[1, 2, 3, 4]"
      ]
     },
     "execution_count": 6,
     "metadata": {},
     "output_type": "execute_result"
    }
   ],
   "source": [
    "new_list"
   ]
  },
  {
   "cell_type": "code",
   "execution_count": 11,
   "id": "b4c47d79",
   "metadata": {},
   "outputs": [],
   "source": [
    "import copy"
   ]
  },
  {
   "cell_type": "code",
   "execution_count": 15,
   "id": "4758b29e",
   "metadata": {},
   "outputs": [],
   "source": [
    "#17\n",
    "copy.copy() creates a new object which shares references with the original object,\n",
    "while copy.deepcopy() creates a new object and recursively adds copies of the objects\n",
    "found in the original object."
   ]
  },
  {
   "cell_type": "code",
   "execution_count": 2,
   "id": "9be08b97",
   "metadata": {},
   "outputs": [],
   "source": [
    "import copy"
   ]
  },
  {
   "cell_type": "code",
   "execution_count": 5,
   "id": "5b5a2f56",
   "metadata": {},
   "outputs": [],
   "source": [
    "a=[[1,3,4,5]]\n",
    "b=copy.copy(a)\n"
   ]
  },
  {
   "cell_type": "code",
   "execution_count": 6,
   "id": "eb2af183",
   "metadata": {},
   "outputs": [],
   "source": [
    "b[0].append(9)"
   ]
  },
  {
   "cell_type": "code",
   "execution_count": 7,
   "id": "17951819",
   "metadata": {},
   "outputs": [
    {
     "name": "stdout",
     "output_type": "stream",
     "text": [
      "[[1, 3, 4, 5, 9]]\n",
      "[[1, 3, 4, 5, 9]]\n"
     ]
    }
   ],
   "source": [
    "print(a)\n",
    "print(b)"
   ]
  },
  {
   "cell_type": "code",
   "execution_count": 3,
   "id": "545d58d9",
   "metadata": {},
   "outputs": [],
   "source": [
    "a=[[1,3,4,5]]\n",
    "b=copy.deepcopy(a)"
   ]
  },
  {
   "cell_type": "code",
   "execution_count": 5,
   "id": "b8f00d4a",
   "metadata": {},
   "outputs": [],
   "source": [
    "b[0].append(2)"
   ]
  },
  {
   "cell_type": "code",
   "execution_count": 6,
   "id": "97cf5658",
   "metadata": {},
   "outputs": [
    {
     "name": "stdout",
     "output_type": "stream",
     "text": [
      "[[1, 3, 4, 5]]\n",
      "[[1, 3, 4, 5, 2]]\n"
     ]
    }
   ],
   "source": [
    "print(a)\n",
    "print(b)"
   ]
  }
 ],
 "metadata": {
  "kernelspec": {
   "display_name": "Python 3 (ipykernel)",
   "language": "python",
   "name": "python3"
  },
  "language_info": {
   "codemirror_mode": {
    "name": "ipython",
    "version": 3
   },
   "file_extension": ".py",
   "mimetype": "text/x-python",
   "name": "python",
   "nbconvert_exporter": "python",
   "pygments_lexer": "ipython3",
   "version": "3.11.5"
  }
 },
 "nbformat": 4,
 "nbformat_minor": 5
}
