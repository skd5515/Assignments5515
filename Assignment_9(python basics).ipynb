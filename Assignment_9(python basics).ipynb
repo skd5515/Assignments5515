{
 "cells": [
  {
   "cell_type": "code",
   "execution_count": null,
   "id": "627816a3-14bf-4acf-a44e-026a16efc6c4",
   "metadata": {},
   "outputs": [],
   "source": [
    "1. To what does a relative path refer?\n",
    "2. What does an absolute path start with your operating system?\n",
    "3. What do the functions os.getcwd() and os.chdir() do?\n",
    "4. What are the . and .. folders?\n",
    "5. In C:\\bacon\\eggs\\spam.txt, which part is the dir name, and which part is the base name?\n",
    "6. What are the three “mode” arguments that can be passed to the open() function?\n",
    "7. What happens if an existing file is opened in write mode?\n",
    "8. How do you tell the difference between read() and readlines()?\n",
    "9. What data structure does a shelf value resemble?"
   ]
  },
  {
   "cell_type": "code",
   "execution_count": null,
   "id": "0b6ddef4-d866-4262-88ae-9e8154fdaabb",
   "metadata": {},
   "outputs": [],
   "source": [
    "1.\n",
    "A relative path refers to a file or directory location that is relative to the current working\n",
    "directory. Unlike an absolute path, which specifies a location from the root directory, a relative\n",
    "path is based on the current directory’s position in the file system."
   ]
  },
  {
   "cell_type": "code",
   "execution_count": null,
   "id": "4ddcabe1-0a54-4da2-8350-a9d06be7c88c",
   "metadata": {},
   "outputs": [],
   "source": [
    "2.\n",
    "An absolute path in an operating system typically starts with the root directory\n",
    "e.g Absolute path to a file: C:\\Users\\user\\Documents\\file.txt\n",
    "Absolute path to a directory: D:\\Projects"
   ]
  },
  {
   "cell_type": "code",
   "execution_count": null,
   "id": "5fc0695b-f657-4a04-93bf-5928e23af786",
   "metadata": {},
   "outputs": [],
   "source": [
    "3.\n",
    "os.getcwd() (Get Current Working Directory):\n",
    "This function returns the current working directory (CWD) as a string.\n",
    "The CWD is the directory where your Python script or program is currently executing.\n",
    "\n",
    "os.chdir(path) (Change Directory):\n",
    "This function changes the current working directory to the specified path.\n",
    "It’s useful when you want to navigate to a different directory within your script."
   ]
  },
  {
   "cell_type": "code",
   "execution_count": null,
   "id": "a382bb52-a17a-452a-b585-f7d2fe030ee5",
   "metadata": {},
   "outputs": [],
   "source": [
    "4.\n",
    ". (Dot Folder):\n",
    "The single dot (.) represents the current directory.\n",
    "When you use . in a path, it refers to the directory where your script or program is currently executing.\n",
    "For example, if  current working directory is /home/user/projects, then ./file.txt points to the file\n",
    "named file.txt within that directory.\n",
    "    \n",
    ".. (Double Dot Folder):\n",
    "The double dot (..) represents the parent directory.\n",
    "When you use .. in a path, it refers to the directory one level above the current directory.\n",
    "For instance, if  current working directory is /home/user/projects, then ../data/file.txt points \n",
    "to the file file.txt within the data directory located in the parent directory."
   ]
  },
  {
   "cell_type": "code",
   "execution_count": null,
   "id": "ac052ded-083a-443d-9ef9-bd5842a53327",
   "metadata": {},
   "outputs": [],
   "source": [
    "5.In the path C:\\bacon\\eggs\\spam.txt:\n",
    "\n",
    "Dir name: C:\\bacon\\eggs\n",
    "Base name: spam.txt"
   ]
  },
  {
   "cell_type": "code",
   "execution_count": null,
   "id": "dedd51cb-6fec-4c07-857f-46ae047ee162",
   "metadata": {},
   "outputs": [],
   "source": [
    "6.\n",
    "'r' (Read mode): Opens a file for reading. The file must exist.\n",
    "'w' (Write mode): Opens a file for writing. If the file exists, it truncates the file to zero length. If the file does not exist, it creates a new file.\n",
    "'a' (Append mode): Opens a file for appending. If the file exists, the file pointer is at the end of the file. If the file does not exist, it creates a new file."
   ]
  },
  {
   "cell_type": "code",
   "execution_count": null,
   "id": "8471ee0b-a1e2-48c4-a2b5-e1e10a1c6efd",
   "metadata": {},
   "outputs": [],
   "source": [
    "7.\n",
    "When an existing file is opened in a write mode then the files content is erased and the file size\n",
    "set to zero.Any new data written to the file will start from the beginning."
   ]
  },
  {
   "cell_type": "code",
   "execution_count": null,
   "id": "64cc5310-b4dd-4180-8793-6b73d3130caa",
   "metadata": {},
   "outputs": [],
   "source": [
    "8.\n",
    "read():\n",
    "Reads the entire file as a single string.\n",
    "Useful when you want to process the entire content at once.\n",
    "readlines():\n",
    "Reads the file line by line and returns a list of strings, where each string is a line from the file.\n",
    "Useful when you want to process each line separately."
   ]
  },
  {
   "cell_type": "code",
   "execution_count": null,
   "id": "a3299f8e-5772-4ff2-b811-e913bcdafb9e",
   "metadata": {},
   "outputs": [],
   "source": [
    "9.\n",
    "A shelf value in Python resembles a dictionary data structure."
   ]
  },
  {
   "cell_type": "code",
   "execution_count": null,
   "id": "3a389188-f4f0-487d-a515-bdea2c95f665",
   "metadata": {},
   "outputs": [],
   "source": []
  }
 ],
 "metadata": {
  "kernelspec": {
   "display_name": "Python 3 (ipykernel)",
   "language": "python",
   "name": "python3"
  },
  "language_info": {
   "codemirror_mode": {
    "name": "ipython",
    "version": 3
   },
   "file_extension": ".py",
   "mimetype": "text/x-python",
   "name": "python",
   "nbconvert_exporter": "python",
   "pygments_lexer": "ipython3",
   "version": "3.11.5"
  }
 },
 "nbformat": 4,
 "nbformat_minor": 5
}
